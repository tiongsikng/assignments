{
  "nbformat": 4,
  "nbformat_minor": 0,
  "metadata": {
    "colab": {
      "name": "Homework#2",
      "provenance": [],
      "collapsed_sections": []
    },
    "kernelspec": {
      "name": "python3",
      "display_name": "Python 3"
    }
  },
  "cells": [
    {
      "cell_type": "code",
      "metadata": {
        "id": "HH22tba2iRME",
        "colab_type": "code",
        "outputId": "123dcc54-e64e-4286-d9e9-0733525c9a3b",
        "colab": {
          "base_uri": "https://localhost:8080/",
          "height": 34
        }
      },
      "source": [
        "# save image as grayscale\n",
        "\n",
        "import cv2\n",
        "image = cv2.imread(\"lena.jpg\")\n",
        "image = cv2.cvtColor(image, cv2.COLOR_BGR2GRAY)\n",
        "cv2.imwrite(\"grayscale.jpg\", image)"
      ],
      "execution_count": 0,
      "outputs": [
        {
          "output_type": "execute_result",
          "data": {
            "text/plain": [
              "True"
            ]
          },
          "metadata": {
            "tags": []
          },
          "execution_count": 7
        }
      ]
    },
    {
      "cell_type": "code",
      "metadata": {
        "id": "7Bb9p7mKZ1ma",
        "colab_type": "code",
        "colab": {}
      },
      "source": [
        "# DCT"
      ],
      "execution_count": 0,
      "outputs": []
    },
    {
      "cell_type": "code",
      "metadata": {
        "id": "fuJKY93tmmfY",
        "colab_type": "code",
        "colab": {}
      },
      "source": [
        "# DCT matrix\n",
        "import numpy as np\n",
        "\n",
        "def DCT_matrix(N):    \n",
        "  W = np.zeros((N,N))\n",
        "  for m in range (N):\n",
        "    for n in range (N):\n",
        "      if m == 0:\n",
        "        W[m,n] = np.sqrt(2/N) * 1/np.sqrt(2)\n",
        "      else:\n",
        "        W[m,n] = np.sqrt(2/N) * np.cos((2 * n + 1) * (m * np.pi) / (2 * N))\n",
        "  return W"
      ],
      "execution_count": 0,
      "outputs": []
    },
    {
      "cell_type": "code",
      "metadata": {
        "id": "-euMs_wtr8Nm",
        "colab_type": "code",
        "colab": {}
      },
      "source": [
        "# function to save matrix to a textfile\n",
        "import numpy \n",
        "\n",
        "def save_matrix(name, matrix):\n",
        "  numpy.savetxt(name, matrix, delimiter = ',')  "
      ],
      "execution_count": 0,
      "outputs": []
    },
    {
      "cell_type": "code",
      "metadata": {
        "id": "5hQCAo2Mr-ps",
        "colab_type": "code",
        "colab": {}
      },
      "source": [
        "# initialize DCT and transpose DCT matrices, save DCT matrix to text file\n",
        "import numpy as np\n",
        "\n",
        "dctmtx8 = DCT_matrix(8)\n",
        "dctmtx8t = np.transpose(dctmtx8)\n",
        "save_matrix(\"dctmtx.txt\", dctmtx8)"
      ],
      "execution_count": 0,
      "outputs": []
    },
    {
      "cell_type": "code",
      "metadata": {
        "id": "zwBIMb8ku6Fa",
        "colab_type": "code",
        "colab": {}
      },
      "source": [
        "# perform matrix multiplication to obtain DCT coefficients\n",
        "\n",
        "import numpy as np\n",
        "import cv2\n",
        "\n",
        "image = cv2.imread(\"D15.jpg\")\n",
        "image = cv2.cvtColor(image, cv2.COLOR_BGR2GRAY)\n",
        "transform = np.zeros(image.shape)\n",
        "dctcoeff = np.zeros(image.shape)\n",
        "im_h, im_w = image.shape[:2]\n",
        "bl_h, bl_w = 8, 8\n",
        "\n",
        "for row in np.arange(im_h - bl_h + 1, step=bl_h):\n",
        "      for col in np.arange(im_w - bl_w + 1, step=bl_w):\n",
        "        dctcoeff[row:row+bl_h, col:col+bl_w] = dctmtx8.dot(image[row:row+bl_h, col:col+bl_w]).dot(dctmtx8t)\n"
      ],
      "execution_count": 0,
      "outputs": []
    },
    {
      "cell_type": "code",
      "metadata": {
        "id": "QX2dL-XWV4lf",
        "colab_type": "code",
        "colab": {}
      },
      "source": [
        "# save DCT coefficient image and coefficients in a text file\n",
        "cv2.imwrite(\"coefficient.jpg\", dctcoeff)\n",
        "save_matrix(\"dctcoeff.txt\", dctcoeff)"
      ],
      "execution_count": 0,
      "outputs": []
    },
    {
      "cell_type": "code",
      "metadata": {
        "id": "B2_-ULjvaLXv",
        "colab_type": "code",
        "colab": {}
      },
      "source": [
        "# function to take upper left triangular region values (half values)\n",
        "\n",
        "def half_matrix(a):  \n",
        "  b = np.zeros(a.shape)\n",
        "  for i in range (0, a.shape[0]):   \n",
        "    for j in range (0, a.shape[1]):\n",
        "      b[i:a.shape[0]-i,i] = a[i:a.shape[0]-i,i] \n",
        "      b[j,j:a.shape[0]-j] = a[j,j:a.shape[0]-j] \n",
        "      j += 1\n",
        "  return b"
      ],
      "execution_count": 0,
      "outputs": []
    },
    {
      "cell_type": "code",
      "metadata": {
        "id": "1gXadjdc4amX",
        "colab_type": "code",
        "outputId": "538c83a3-37c8-4a11-c475-e5abd633fac0",
        "colab": {
          "base_uri": "https://localhost:8080/",
          "height": 34
        }
      },
      "source": [
        "# perform inverse DCT on new DCT coefficients, where only upper left values of DCT coefficient were used\n",
        "\n",
        "inverse = np.zeros(image.shape)\n",
        "\n",
        "for row in np.arange(im_h - bl_h + 1, step=bl_h):\n",
        "    for col in np.arange(im_w - bl_w + 1, step=bl_w):        \n",
        "      inverse[row:row+bl_h, col:col+bl_w] = dctmtx8t.dot(half_matrix(dctcoeff[row:row+bl_h, col:col+bl_w])).dot(dctmtx8)\n",
        "\n",
        "cv2.imwrite(\"D15-dct.jpg\", inverse)"
      ],
      "execution_count": 0,
      "outputs": [
        {
          "output_type": "execute_result",
          "data": {
            "text/plain": [
              "True"
            ]
          },
          "metadata": {
            "tags": []
          },
          "execution_count": 31
        }
      ]
    },
    {
      "cell_type": "code",
      "metadata": {
        "id": "CMtAMafA_n-M",
        "colab_type": "code",
        "colab": {}
      },
      "source": [
        "# KLT"
      ],
      "execution_count": 0,
      "outputs": []
    },
    {
      "cell_type": "code",
      "metadata": {
        "id": "gA376bZrpMua",
        "colab_type": "code",
        "colab": {}
      },
      "source": [
        "# function to get matrix covariance\n",
        "import numpy as np\n",
        "\n",
        "def covar(X):\n",
        "  meanX = np.mean(X, axis = 0)\n",
        "  lenX = X.shape[0]\n",
        "  X = X - meanX\n",
        "  covariance = np.transpose(X).dot(X)/lenX\n",
        "  return covariance"
      ],
      "execution_count": 0,
      "outputs": []
    },
    {
      "cell_type": "code",
      "metadata": {
        "id": "01WJZegfTi0P",
        "colab_type": "code",
        "colab": {}
      },
      "source": [
        "# function to convert from PIL image to OpenCV for saving purposes\n",
        "\n",
        "def pil2cv(image):\n",
        "    ''' PIL型 -> OpenCV型 '''\n",
        "    new_image = np.array(image, dtype=np.uint8)\n",
        "    if new_image.ndim == 2: \n",
        "        pass\n",
        "    elif new_image.shape[2] == 3:\n",
        "        new_image = cv2.cvtColor(new_image, cv2.COLOR_RGB2BGR)\n",
        "    elif new_image.shape[2] == 4:\n",
        "        new_image = cv2.cvtColor(new_image, cv2.COLOR_RGBA2BGRA)\n",
        "    return new_image"
      ],
      "execution_count": 0,
      "outputs": []
    },
    {
      "cell_type": "code",
      "metadata": {
        "id": "ZWKsUr6VM_jb",
        "colab_type": "code",
        "colab": {}
      },
      "source": [
        "from numpy import size\n",
        "from scipy.sparse.linalg import eigs\n",
        "import numpy as np\n",
        "\n",
        "def eigen(arr):  \n",
        "  # subtract the mean (along columns)\n",
        "  M = (arr - np.mean(np.transpose(arr),axis=1)).T \n",
        "  # get largets 32 eigenvalues and eigenvectors of covariance matrix\n",
        "  [eigenval, eigenvec] = eigs(covar(M), k=32, which='LM')  \n",
        "  # sort eigenvalues based on index\n",
        "  idx = eigenval.argsort() \n",
        "  idx = idx[::-1]\n",
        "  # sorting eigenvectors according to the sorted eigenvalues\n",
        "  eigenvec = eigenvec[:,idx]\n",
        "  # sort eigenvalues in ascending order\n",
        "  eigenval = eigenval[idx]   \n",
        "  score = np.transpose(eigenvec).dot(M)\n",
        "  return eigenvec, score, eigenval"
      ],
      "execution_count": 0,
      "outputs": []
    },
    {
      "cell_type": "code",
      "metadata": {
        "id": "vwdeIy8IMk0W",
        "colab_type": "code",
        "outputId": "663c18af-07f2-4a33-a209-351940d32d5b",
        "colab": {
          "base_uri": "https://localhost:8080/",
          "height": 67
        }
      },
      "source": [
        "import cv2\n",
        "import numpy as np\n",
        "from scipy.sparse.linalg import eigs\n",
        "\n",
        "# load image\n",
        "image = cv2.imread('D15.jpg')\n",
        "image = cv2.cvtColor(image, cv2.COLOR_BGR2GRAY)\n",
        "im_h, im_w = image.shape[:2]\n",
        "bl_h, bl_w = 8, 8\n",
        "\n",
        "# break image into blocks of 64x64\n",
        "for row in np.arange(im_h - bl_h + 1, step=bl_h):\n",
        "      for col in np.arange(im_w - bl_w + 1, step=bl_w):\n",
        "        eigenvec, score, eigenval = eigen(np.array(image))\n",
        "        klt = np.transpose(eigenvec.dot(score)) + np.mean(image, axis=0)  \n",
        "\n",
        "cv2.imwrite(\"D15-klt.jpg\", pil2cv(klt))"
      ],
      "execution_count": 0,
      "outputs": [
        {
          "output_type": "stream",
          "text": [
            "/usr/local/lib/python3.6/dist-packages/ipykernel_launcher.py:4: ComplexWarning: Casting complex values to real discards the imaginary part\n",
            "  after removing the cwd from sys.path.\n"
          ],
          "name": "stderr"
        },
        {
          "output_type": "execute_result",
          "data": {
            "text/plain": [
              "True"
            ]
          },
          "metadata": {
            "tags": []
          },
          "execution_count": 35
        }
      ]
    },
    {
      "cell_type": "code",
      "metadata": {
        "id": "UZG9xJvsMV_x",
        "colab_type": "code",
        "colab": {}
      },
      "source": [
        "# SVD"
      ],
      "execution_count": 0,
      "outputs": []
    },
    {
      "cell_type": "code",
      "metadata": {
        "id": "DpmiSIdlRMds",
        "colab_type": "code",
        "colab": {
          "base_uri": "https://localhost:8080/",
          "height": 34
        },
        "outputId": "eb538ce2-dacc-463f-daf3-eafdd3c9d58a"
      },
      "source": [
        "from numpy import array\n",
        "from scipy.linalg import svd\n",
        "import numpy as np\n",
        "from scipy.sparse.linalg import svds\n",
        "import cv2\n",
        "\n",
        "image = cv2.imread(\"D15.jpg\")\n",
        "image = cv2.cvtColor(image, cv2.COLOR_BGR2GRAY)\n",
        "svdimg = np.zeros(image.shape)\n",
        "im_h, im_w = image.shape[:2]\n",
        "bl_h, bl_w = 8, 8\n",
        "\n",
        "# separate image into blocks of 8x8\n",
        "for row in np.arange(im_h - bl_h + 1, step=bl_h):\n",
        "      for col in np.arange(im_w - bl_w + 1, step=bl_w):\n",
        "        U, ggt, VT = svd(image)\n",
        "        ggt = np.diag(ggt)\n",
        "        svdimg = U.dot(ggt).dot(VT)\n",
        "        \n",
        "cv2.imwrite(\"D15-svd.jpg\", svdimg)"
      ],
      "execution_count": 45,
      "outputs": [
        {
          "output_type": "execute_result",
          "data": {
            "text/plain": [
              "True"
            ]
          },
          "metadata": {
            "tags": []
          },
          "execution_count": 45
        }
      ]
    },
    {
      "cell_type": "code",
      "metadata": {
        "id": "qsSLDHwrfAWL",
        "colab_type": "code",
        "colab": {}
      },
      "source": [
        "# function to obtain dominant N/2 values of a matrix\n",
        "\n",
        "def max_values(ary, n):    \n",
        "    maxhalf = np.zeros(ary.shape)\n",
        "    maxhalf = maxhalf.flatten()\n",
        "    flat = ary.flatten()\n",
        "    indices = np.argpartition(flat, -n)[-n:]\n",
        "    indices = indices[np.argsort(-flat[indices])]\n",
        "    indices = flat[indices]\n",
        "    for i in range (0, n):\n",
        "      maxhalf[0:n] = indices[0:n]    \n",
        "    maxhalf.shape = ary.shape\n",
        "    return maxhalf"
      ],
      "execution_count": 0,
      "outputs": []
    },
    {
      "cell_type": "code",
      "metadata": {
        "id": "r9Ka3YzC4nRa",
        "colab_type": "code",
        "outputId": "a3b67ddb-a5c4-4f99-f059-75206f294dc2",
        "colab": {
          "base_uri": "https://localhost:8080/",
          "height": 34
        }
      },
      "source": [
        "from numpy import array\n",
        "from scipy.linalg import svd\n",
        "import numpy as np\n",
        "from scipy.sparse.linalg import svds\n",
        "\n",
        "# define a matrix\n",
        "image = cv2.imread(\"D15.jpg\")\n",
        "image = cv2.cvtColor(image, cv2.COLOR_BGR2GRAY)\n",
        "svd_approx = np.zeros(image.shape)\n",
        "im_h, im_w = image.shape[:2]\n",
        "bl_h, bl_w = 8, 8\n",
        "\n",
        "for row in np.arange(im_h - bl_h + 1, step=bl_h):\n",
        "      for col in np.arange(im_w - bl_w + 1, step=bl_w):             \n",
        "        svd_approx[row:row+bl_h, col:col+bl_w] = max_values(U[row:row+bl_h, col:col+bl_w], 4).dot(ggt[row:row+bl_h, col:col+bl_w]).dot(max_values(VT[row:row+bl_h, col:col+bl_w], 4))\n",
        "        \n",
        "cv2.imwrite(\"D15-svd-approx.jpg\", svd_approx)"
      ],
      "execution_count": 47,
      "outputs": [
        {
          "output_type": "execute_result",
          "data": {
            "text/plain": [
              "True"
            ]
          },
          "metadata": {
            "tags": []
          },
          "execution_count": 47
        }
      ]
    }
  ]
}