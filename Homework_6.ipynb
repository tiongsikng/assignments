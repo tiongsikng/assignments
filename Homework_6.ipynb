{
  "nbformat": 4,
  "nbformat_minor": 0,
  "metadata": {
    "colab": {
      "name": "Homework#6",
      "provenance": [],
      "collapsed_sections": []
    },
    "kernelspec": {
      "name": "python3",
      "display_name": "Python 3"
    }
  },
  "cells": [
    {
      "cell_type": "code",
      "metadata": {
        "id": "2mGgRtU2kUO7",
        "colab_type": "code",
        "colab": {}
      },
      "source": [
        "# MSE function\n",
        "import cv2\n",
        "from sklearn.metrics import mean_squared_error\n",
        "\n",
        "orig_img = cv2.imread('hara_original.png', 0)\n",
        "\n",
        "def mse_function(imageA, imageB):\n",
        "  ms_err = mean_squared_error(imageA, imageB)\n",
        "  print(ms_err)\n",
        "  return ms_err"
      ],
      "execution_count": 0,
      "outputs": []
    },
    {
      "cell_type": "code",
      "metadata": {
        "id": "bX78wjrXm6wF",
        "colab_type": "code",
        "colab": {}
      },
      "source": [
        "# Inverse filtering"
      ],
      "execution_count": 0,
      "outputs": []
    },
    {
      "cell_type": "code",
      "metadata": {
        "id": "jXD9RN_bmt7Y",
        "colab_type": "code",
        "colab": {}
      },
      "source": [
        "import numpy as np\n",
        "import cv2\n",
        "from PIL import Image\n",
        "import scipy.fftpack as fp\n",
        "\n",
        "image_filename = 'hara_cylind_blur'\n",
        "image_ext = '.png'\n",
        "\n",
        "img = cv2.imread(str(image_filename) +  str(image_ext), 0)"
      ],
      "execution_count": 0,
      "outputs": []
    },
    {
      "cell_type": "code",
      "metadata": {
        "id": "J20ojkQdpStn",
        "colab_type": "code",
        "colab": {}
      },
      "source": [
        "import numpy as np\n",
        "import cv2\n",
        "\n",
        "F1 = np.zeros(img.shape)\n",
        "F2 = np.zeros(img.shape)\n",
        "iT = 10\n",
        "N = 498\n",
        "\n",
        "def inverse_filter(img):\n",
        "  dft = np.fft.fft(img)\n",
        "  img_real = dft.real\n",
        "  img_imag = dft.imag\n",
        "\n",
        "  for n in range(0, img.shape[0]):\n",
        "    for m in range(0, img.shape[1]):\n",
        "      out_denom = np.sin(iT * np.pi * m / N)\n",
        "      if(out_denom < 0.07 and out_denom > -0.07):\n",
        "        F1[n][m] = img_real[n][m]\n",
        "        F2[n][m] = img_imag[n][m]\n",
        "      else:\n",
        "        F1[n][m] = (iT * np.sin(np.pi * m / N) \n",
        "        * (img_real[n][m] * np.cos(np.pi * m * (iT - 1) / N) - img_imag[n][m] * np.sin(np.pi * m * (iT - 1) / N)) \n",
        "        / out_denom)\n",
        "        F2[n][m] = (iT * np.sin(np.pi * m / N) \n",
        "        * (img_real[n][m] * np.sin(np.pi * m * (iT - 1) / N) + img_imag[n][m] * np.cos(np.pi * m * (iT - 1) / N)) \n",
        "        / out_denom)\n",
        "  return F1, F2"
      ],
      "execution_count": 0,
      "outputs": []
    },
    {
      "cell_type": "code",
      "metadata": {
        "id": "EKQ2ofRQUdej",
        "colab_type": "code",
        "colab": {}
      },
      "source": [
        "proc_real, proc_imag = inverse_filter(img)\n",
        "dft_mat = proc_real + 1j*proc_imag\n",
        "inv_proc = np.fft.ifft(dft_mat)"
      ],
      "execution_count": 0,
      "outputs": []
    },
    {
      "cell_type": "code",
      "metadata": {
        "id": "m7XBxF0wyDir",
        "colab_type": "code",
        "outputId": "527a3706-6e49-4b87-b9c7-c6932ad81ffe",
        "colab": {
          "base_uri": "https://localhost:8080/",
          "height": 34
        }
      },
      "source": [
        "inv_real = inv_proc.real\n",
        "output_name = str(image_filename) + \"_inverse\" +  str(image_ext)\n",
        "cv2.imwrite(output_name, inv_real)"
      ],
      "execution_count": 0,
      "outputs": [
        {
          "output_type": "execute_result",
          "data": {
            "text/plain": [
              "True"
            ]
          },
          "metadata": {
            "tags": []
          },
          "execution_count": 19
        }
      ]
    },
    {
      "cell_type": "code",
      "metadata": {
        "id": "WLWkwzg3ECK5",
        "colab_type": "code",
        "outputId": "838cc87b-82f9-4421-8523-e341ae614469",
        "colab": {
          "base_uri": "https://localhost:8080/",
          "height": 87
        }
      },
      "source": [
        "cylind_blur = cv2.imread('hara_cylind_blur_inverse.png', 0)\n",
        "cylind_gauss = cv2.imread('hara_cylind_gauss_inverse.png', 0)\n",
        "print(\"Cylindrical blur MSE: \" + str(mse_function(cylind_blur, orig_img)))\n",
        "print(\"Cylindrical Gauss MSE: \" + str(mse_function(cylind_gauss, orig_img)))"
      ],
      "execution_count": 0,
      "outputs": [
        {
          "output_type": "stream",
          "text": [
            "83.51753498368473\n",
            "Cylindrical blur MSE: 83.51753498368473\n",
            "93.77850856551206\n",
            "Cylindrical Gauss MSE: 93.77850856551206\n"
          ],
          "name": "stdout"
        }
      ]
    },
    {
      "cell_type": "code",
      "metadata": {
        "id": "NmN5vYGMafES",
        "colab_type": "code",
        "colab": {}
      },
      "source": [
        "# Wiener filtering"
      ],
      "execution_count": 0,
      "outputs": []
    },
    {
      "cell_type": "code",
      "metadata": {
        "id": "xrR3HHqeyx_3",
        "colab_type": "code",
        "colab": {}
      },
      "source": [
        "import numpy as np\n",
        "import cv2\n",
        "from PIL import Image\n",
        "import scipy.fftpack as fp\n",
        "\n",
        "image_filename = 'hara_real_gauss'\n",
        "image_ext = '.png' \n",
        "img = cv2.imread(str(image_filename) +  str(image_ext), 0)"
      ],
      "execution_count": 0,
      "outputs": []
    },
    {
      "cell_type": "code",
      "metadata": {
        "id": "yO0-G8rCbDYl",
        "colab_type": "code",
        "colab": {}
      },
      "source": [
        "import numpy as np\n",
        "import cv2\n",
        "\n",
        "F1 = np.zeros(img.shape)\n",
        "F2 = np.zeros(img.shape)\n",
        "iT = 10\n",
        "N = 498\n",
        "gamma = 0.06\n",
        "\n",
        "def wiener_filter(img):\n",
        "  dft = np.fft.fft(img)\n",
        "  img_real = dft.real\n",
        "  img_imag = dft.imag\n",
        "\n",
        "  for n in range(0, img.shape[0]):\n",
        "    for m in range(0, img.shape[1]):      \n",
        "      if(m == 0):\n",
        "        F1[n][m] = img_real[n][m] / (1 + gamma)\n",
        "        F2[n][m] = img_imag[n][m] / (1 + gamma)\n",
        "      else:\n",
        "        F1[n][m] = ((iT * np.sin(np.pi * m / N) * np.sin(iT * np.pi * m / N))\n",
        "          / (np.power((np.sin(iT * np.pi * m / N)), 2) + (gamma * np.power(iT, 2) * np.power((np.sin(np.pi * m / N)), 2)) )\n",
        "          * (img_real[n][m] * np.cos(np.pi * m * (iT - 1) / N) - img_imag[n][m] * np.sin(np.pi * m * (iT - 1) / N)))\n",
        "        F2[n][m] = ((iT * np.sin(np.pi * m / N) * np.sin(iT * np.pi * m / N)) \n",
        "          / (np.power((np.sin(iT * np.pi * m / N)), 2) + (gamma * np.power(iT, 2) * np.power((np.sin(np.pi * m / N)), 2)))\n",
        "          * (img_real[n][m] * np.sin(np.pi * m * (iT - 1) / N) + img_imag[n][m] * np.cos(np.pi * m * (iT - 1) / N)))\n",
        "  return F1, F2"
      ],
      "execution_count": 0,
      "outputs": []
    },
    {
      "cell_type": "code",
      "metadata": {
        "id": "J1Vf-S0MuipI",
        "colab_type": "code",
        "colab": {}
      },
      "source": [
        "proc_real, proc_imag = wiener_filter(img)\n",
        "dft_mat = proc_real + 1j*proc_imag\n",
        "inv_proc = np.fft.ifft(dft_mat)"
      ],
      "execution_count": 0,
      "outputs": []
    },
    {
      "cell_type": "code",
      "metadata": {
        "id": "gAHFxXAdul2p",
        "colab_type": "code",
        "outputId": "fb2c2cd5-c0b6-4202-9b13-30eabf9c7051",
        "colab": {
          "base_uri": "https://localhost:8080/",
          "height": 34
        }
      },
      "source": [
        "inv_real = inv_proc.real\n",
        "output_name = str(image_filename) + \"_wiener\" +  str(image_ext)\n",
        "cv2.imwrite(output_name, inv_real)"
      ],
      "execution_count": 0,
      "outputs": [
        {
          "output_type": "execute_result",
          "data": {
            "text/plain": [
              "True"
            ]
          },
          "metadata": {
            "tags": []
          },
          "execution_count": 81
        }
      ]
    },
    {
      "cell_type": "code",
      "metadata": {
        "id": "ID7njX4-d8QQ",
        "colab_type": "code",
        "outputId": "730ffe74-a6c1-4780-8ff4-e37a5fbc9c73",
        "colab": {
          "base_uri": "https://localhost:8080/",
          "height": 87
        }
      },
      "source": [
        "cylind_gauss = cv2.imread('hara_cylind_gauss_wiener.png', 0)\n",
        "print(\"Cylindrical Gauss MSE: \" + str(mse_function(cylind_gauss, orig_img)))\n",
        "cylind_gauss = cv2.imread('hara_cylind_blur_wiener.png', 0)\n",
        "print(\"Cylindrical Blur MSE: \" + str(mse_function(cylind_blur, orig_img)))"
      ],
      "execution_count": 0,
      "outputs": [
        {
          "output_type": "stream",
          "text": [
            "95.14779038027108\n",
            "Cylindrical Gauss MSE: 95.14779038027108\n",
            "83.51753498368473\n",
            "Cylindrical Blur MSE: 83.51753498368473\n"
          ],
          "name": "stdout"
        }
      ]
    },
    {
      "cell_type": "code",
      "metadata": {
        "id": "SyExY8O-mPrL",
        "colab_type": "code",
        "colab": {}
      },
      "source": [
        "# Constrained matrix inversion filtering"
      ],
      "execution_count": 0,
      "outputs": []
    },
    {
      "cell_type": "code",
      "metadata": {
        "id": "kuWGA7kdbwId",
        "colab_type": "code",
        "colab": {}
      },
      "source": [
        "import numpy as np\n",
        "import cv2\n",
        "from PIL import Image\n",
        "import scipy.fftpack as fp\n",
        "\n",
        "image_filename = 'hara_real_gauss'\n",
        "image_ext = '.png' \n",
        "img = cv2.imread(str(image_filename) +  str(image_ext), 0)"
      ],
      "execution_count": 0,
      "outputs": []
    },
    {
      "cell_type": "code",
      "metadata": {
        "id": "Gr2RL1ttoekG",
        "colab_type": "code",
        "colab": {}
      },
      "source": [
        "import numpy as np\n",
        "import cv2\n",
        "\n",
        "F1 = np.zeros(img.shape)\n",
        "F2 = np.zeros(img.shape)\n",
        "A = np.zeros(img.shape)\n",
        "N = 498\n",
        "gamma = 0.002\n",
        "\n",
        "def constrained_filter(img):\n",
        "  dft = np.fft.fft(img)\n",
        "  img_real = dft.real\n",
        "  img_imag = dft.imag\n",
        "\n",
        "  for n in range(0, img.shape[0]):\n",
        "    for m in range(0, img.shape[1]):      \n",
        "      if(m == 0):\n",
        "        A[n][m] = np.sqrt((np.power((N-5), 2) + (2 * (N-5) * np.cos(2 * np.pi * n / N)) + (2 * (N-5) * np.cos(2 * np.pi * (N-1) / N)) + (2  * np.cos(2 * np.pi * (N-2) * n / N))))\n",
        "        F1[n][m] = img_real[n][m] / (1 + gamma * A[n][m])\n",
        "        F2[n][m] = img_imag[n][m] / (1 + gamma * A[n][m])\n",
        "      else:\n",
        "        A[n][m] = np.sqrt((25 + 2 - (10 * np.cos(2 * np.pi * n / N)) - (10 * np.cos(2 * np.pi * (N-1) / N)) + (2  * np.cos(2 * np.pi * (N-2) * n / N))))\n",
        "        F1[n][m] = ((iT * np.sin(np.pi * m / N) * np.sin(iT * np.pi * m / N))\n",
        "          * (img_real[n][m] * np.cos(np.pi * m * (iT - 1) / N) - img_imag[n][m] * np.sin(np.pi * m * (iT - 1) / N))          \n",
        "          / (np.power((np.sin(iT * np.pi * m / N)), 2) + (gamma * A[n][m] * np.power(iT, 2) * np.power((np.sin(np.pi * m / N)), 2)) ))\n",
        "        F2[n][m] = ((iT * np.sin(np.pi * m / N) * np.sin(iT * np.pi * m / N))\n",
        "          * (img_real[n][m] * np.sin(np.pi * m * (iT - 1) / N) + img_imag[n][m] * np.cos(np.pi * m * (iT - 1) / N))          \n",
        "          / (np.power((np.sin(iT * np.pi * m / N)), 2) + (gamma * A[n][m] * np.power(iT, 2) * np.power((np.sin(np.pi * m / N)), 2)) ))\n",
        "  return F1, F2"
      ],
      "execution_count": 0,
      "outputs": []
    },
    {
      "cell_type": "code",
      "metadata": {
        "id": "YlWR-MiCbpJX",
        "colab_type": "code",
        "colab": {}
      },
      "source": [
        "proc_real, proc_imag = constrained_filter(img)\n",
        "dft_mat = proc_real + 1j*proc_imag\n",
        "inv_proc = np.fft.ifft(dft_mat)"
      ],
      "execution_count": 0,
      "outputs": []
    },
    {
      "cell_type": "code",
      "metadata": {
        "id": "ct2ZVdpFbrn2",
        "colab_type": "code",
        "outputId": "64de4abb-5200-4b80-869f-05071df8beb6",
        "colab": {
          "base_uri": "https://localhost:8080/",
          "height": 34
        }
      },
      "source": [
        "inv_real = inv_proc.real\n",
        "output_name = str(image_filename) + \"_constrained\" +  str(image_ext)\n",
        "cv2.imwrite(output_name, inv_real)"
      ],
      "execution_count": 81,
      "outputs": [
        {
          "output_type": "execute_result",
          "data": {
            "text/plain": [
              "True"
            ]
          },
          "metadata": {
            "tags": []
          },
          "execution_count": 81
        }
      ]
    },
    {
      "cell_type": "code",
      "metadata": {
        "id": "guTMcO29etFh",
        "colab_type": "code",
        "outputId": "7deb1990-1de1-4046-e53d-b3a9c5db87f7",
        "colab": {
          "base_uri": "https://localhost:8080/",
          "height": 87
        }
      },
      "source": [
        "cylind_gauss = cv2.imread('hara_cylind_gauss_constrained.png', 0)\n",
        "print(\"Cylindrical Gauss MSE: \" + str(mse_function(cylind_gauss, orig_img)))\n",
        "cylind_blur = cv2.imread('hara_cylind_blur_constrained.png', 0)\n",
        "print(\"Cylindrical Blur MSE: \" + str(mse_function(cylind_blur, orig_img)))"
      ],
      "execution_count": 74,
      "outputs": [
        {
          "output_type": "stream",
          "text": [
            "99.1017860504518\n",
            "Cylindrical Gauss MSE: 99.1017860504518\n",
            "103.70734892695783\n",
            "Cylindrical Blur MSE: 103.70734892695783\n"
          ],
          "name": "stdout"
        }
      ]
    }
  ]
}