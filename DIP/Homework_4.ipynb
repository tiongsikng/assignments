{
  "nbformat": 4,
  "nbformat_minor": 0,
  "metadata": {
    "colab": {
      "name": "Homework#4",
      "provenance": [],
      "collapsed_sections": []
    },
    "kernelspec": {
      "name": "python3",
      "display_name": "Python 3"
    }
  },
  "cells": [
    {
      "cell_type": "code",
      "metadata": {
        "id": "f-TR12ykluW1",
        "colab_type": "code",
        "colab": {}
      },
      "source": [
        "# Median Filter"
      ],
      "execution_count": 0,
      "outputs": []
    },
    {
      "cell_type": "code",
      "metadata": {
        "id": "-2BcsN5lnEmq",
        "colab_type": "code",
        "colab": {}
      },
      "source": [
        "# define a median filter\n",
        "import numpy as np\n",
        "\n",
        "def median_filter(data, filter_size):\n",
        "  temp = []\n",
        "  indexer = filter_size // 2\n",
        "  data_final = []\n",
        "  data_final = np.zeros((len(data),len(data[0])))\n",
        "  for i in range(len(data)):\n",
        "    for j in range(len(data[0])):\n",
        "      for z in range(filter_size):\n",
        "          if i + z - indexer < 0 or i + z - indexer > len(data) - 1:\n",
        "            for c in range(filter_size):\n",
        "              temp.append(0)\n",
        "          else:\n",
        "            if j + z - indexer < 0 or j + indexer > len(data[0]) - 1:\n",
        "              temp.append(0)\n",
        "            else:\n",
        "              for k in range(filter_size):\n",
        "                temp.append(data[i + z - indexer][j + k - indexer])\n",
        "      temp.sort()\n",
        "      data_final[i][j] = temp[len(temp) // 2]\n",
        "      temp = []\n",
        "  return data_final"
      ],
      "execution_count": 0,
      "outputs": []
    },
    {
      "cell_type": "code",
      "metadata": {
        "id": "yBl5C_KanF96",
        "colab_type": "code",
        "colab": {
          "base_uri": "https://localhost:8080/",
          "height": 34
        },
        "outputId": "a76bb0b5-136e-4d34-a669-538338128b1a"
      },
      "source": [
        "sp_median = median_filter(salt_pepper, 5)\n",
        "cv2.imwrite(\"sp_median.bmp\", sp_median)\n",
        "\n",
        "gauss_median = median_filter(gauss, 5)\n",
        "cv2.imwrite(\"gauss_median.bmp\", gauss_median)"
      ],
      "execution_count": 13,
      "outputs": [
        {
          "output_type": "execute_result",
          "data": {
            "text/plain": [
              "True"
            ]
          },
          "metadata": {
            "tags": []
          },
          "execution_count": 13
        }
      ]
    },
    {
      "cell_type": "code",
      "metadata": {
        "id": "UHrPqp1Ckz_T",
        "colab_type": "code",
        "colab": {}
      },
      "source": [
        "# FIR Filter with Hamming Window"
      ],
      "execution_count": 0,
      "outputs": []
    },
    {
      "cell_type": "code",
      "metadata": {
        "id": "z4L2quoqNxbh",
        "colab_type": "code",
        "colab": {}
      },
      "source": [
        "# get ideal response\n",
        "import numpy as np\n",
        "\n",
        "# filter size\n",
        "n = 5\n",
        "ideal = np.empty((n))\n",
        "# set lower bound and upper bound for cutoff frequency\n",
        "l_bound = -(np.pi/2)\n",
        "h_bound = np.pi/2\n",
        "\n",
        "# get matrix for ideal response\n",
        "for i in range(0, ideal.shape[0]):  \n",
        "  ideal[i] = np.multiply(0.5, np.sinc((i)/ 2))\n",
        "  # perform cutoff if exceeds cutoff boundaries\n",
        "  if(ideal[i] < h_bound and ideal[i] > l_bound):\n",
        "    ideal[i] = ideal[i]\n",
        "  else:\n",
        "    ideal[i] = 0\n",
        "cutoff_ideal = np.outer(ideal, ideal)"
      ],
      "execution_count": 0,
      "outputs": []
    },
    {
      "cell_type": "code",
      "metadata": {
        "id": "O5CTl0T7FnOD",
        "colab_type": "code",
        "colab": {}
      },
      "source": [
        "# define Hamming window of size 5x5\n",
        "n = 5\n",
        "hamming1d = np.empty((n))\n",
        "alpha = 0.54\n",
        "beta = 0.46\n",
        "N = 41\n",
        "\n",
        "for i in range(0, hamming1d.shape[0]):\n",
        "  hamming1d[i] = alpha + np.multiply(beta, np.cos(2 * np.pi * i / (N-1)))\n",
        "hammingd2d = np.outer(hamming1d, hamming1d)"
      ],
      "execution_count": 0,
      "outputs": []
    },
    {
      "cell_type": "code",
      "metadata": {
        "id": "bKk2YFLkFKgr",
        "colab_type": "code",
        "colab": {}
      },
      "source": [
        "# get the filter by multiplying h_d with w, since in time domain\n",
        "filter = np.multiply(cutoff_ideal, hammingd2d)"
      ],
      "execution_count": 0,
      "outputs": []
    },
    {
      "cell_type": "code",
      "metadata": {
        "id": "prfw9SQffUTl",
        "colab_type": "code",
        "outputId": "178a4864-89c7-49e1-dd3d-e1c74b89c723",
        "colab": {
          "base_uri": "https://localhost:8080/",
          "height": 34
        }
      },
      "source": [
        "import cv2\n",
        "import scipy.signal as ss\n",
        "\n",
        "salt_pepper = cv2.imread(\"crowd_sp_30%.bmp\", 0)\n",
        "sp_fir = ss.convolve2d(salt_pepper, filter, mode='same')\n",
        "cv2.imwrite(\"sp_fir.bmp\", sp_fir)\n",
        "\n",
        "gauss = cv2.imread(\"crowd_gau_30%.bmp\", 0)\n",
        "gauss_fir = ss.convolve2d(gauss, filter, mode='same')\n",
        "cv2.imwrite(\"gauss_fir.bmp\", gauss_fir)"
      ],
      "execution_count": 17,
      "outputs": [
        {
          "output_type": "execute_result",
          "data": {
            "text/plain": [
              "True"
            ]
          },
          "metadata": {
            "tags": []
          },
          "execution_count": 17
        }
      ]
    }
  ]
}