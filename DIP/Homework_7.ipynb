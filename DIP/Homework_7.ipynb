{
  "nbformat": 4,
  "nbformat_minor": 0,
  "metadata": {
    "colab": {
      "name": "Homework#7",
      "provenance": [],
      "collapsed_sections": []
    },
    "kernelspec": {
      "name": "python3",
      "display_name": "Python 3"
    }
  },
  "cells": [
    {
      "cell_type": "code",
      "metadata": {
        "id": "wMqlIsgRdS4a",
        "colab_type": "code",
        "colab": {}
      },
      "source": [
        "# image segmentation"
      ],
      "execution_count": null,
      "outputs": []
    },
    {
      "cell_type": "code",
      "metadata": {
        "id": "MLa4PFJGKtoc",
        "colab_type": "code",
        "colab": {}
      },
      "source": [
        "import numpy as np\n",
        "import cv2\n",
        "import matplotlib.pyplot as plt\n",
        "from scipy import ndimage\n",
        "\n",
        "gray = cv2.imread(\"giraffe.png\", 0)\n",
        "img = cv2.imread(\"giraffe.png\")\n",
        "blue, green, red = cv2.split(img)"
      ],
      "execution_count": 7,
      "outputs": []
    },
    {
      "cell_type": "code",
      "metadata": {
        "id": "9hw_XElMR4Bk",
        "colab_type": "code",
        "colab": {}
      },
      "source": [
        "def image_histogram_equalization(image, number_bins=256):   \n",
        "  # get image histogram\n",
        "  image_histogram, bins = np.histogram(image.flatten(), number_bins, density=True)\n",
        "  # cumulative distribution function\n",
        "  cdf = image_histogram.cumsum()  \n",
        "  # normalize\n",
        "  cdf = 255 * cdf / cdf[-1]\n",
        "  # use linear interpolation of cdf to find new pixel values\n",
        "  image_equalized = np.interp(image.flatten(), bins[:-1], cdf).astype('uint8')\n",
        "  image_equalized = image_equalized.reshape((image.shape))\n",
        "  return image_equalized"
      ],
      "execution_count": 2,
      "outputs": []
    },
    {
      "cell_type": "code",
      "metadata": {
        "id": "04MnyVi9Oan7",
        "colab_type": "code",
        "colab": {}
      },
      "source": [
        "# separate image into binary using mean as threshold\n",
        "def simple_segment(gray_img):\n",
        "  new_gray = np.empty(gray_img.shape)\n",
        "  for i in range(0, gray_img.shape[0]):\n",
        "    for j in range(0, gray_img.shape[1]):\n",
        "      if gray_img[i][j] > gray_img.mean():\n",
        "          new_gray[i][j] = 255\n",
        "      else:\n",
        "          new_gray[i][j] = 0\n",
        "  return new_gray"
      ],
      "execution_count": 3,
      "outputs": []
    },
    {
      "cell_type": "code",
      "metadata": {
        "id": "p2ajsMMetOcV",
        "colab_type": "code",
        "colab": {
          "base_uri": "https://localhost:8080/",
          "height": 34
        },
        "outputId": "883360e9-ecf8-487d-81d4-babfeb4ed218"
      },
      "source": [
        "gray_seg = simple_segment(gray)\n",
        "blue_seg = simple_segment(blue)\n",
        "red_seg = simple_segment(red)\n",
        "green_seg = simple_segment(green)\n",
        "\n",
        "colour_seg = cv2.merge([blue_seg, green_seg, red_seg]) \n",
        "\n",
        "cv2.imwrite(\"giraffe_gray_seg.png\", gray_seg)\n",
        "cv2.imwrite(\"giraffe_colour_seg.png\", colour_seg)"
      ],
      "execution_count": 13,
      "outputs": [
        {
          "output_type": "execute_result",
          "data": {
            "text/plain": [
              "True"
            ]
          },
          "metadata": {
            "tags": []
          },
          "execution_count": 13
        }
      ]
    },
    {
      "cell_type": "code",
      "metadata": {
        "id": "aozjbqIbwo5U",
        "colab_type": "code",
        "colab": {
          "base_uri": "https://localhost:8080/",
          "height": 34
        },
        "outputId": "e824da52-4064-43b7-da12-d1785af2502f"
      },
      "source": [
        "hist_gray = image_histogram_equalization(gray)\n",
        "hist_blue = image_histogram_equalization(blue)\n",
        "hist_green = image_histogram_equalization(green)\n",
        "hist_red = image_histogram_equalization(red)\n",
        "\n",
        "hist_gray = simple_segment(hist_gray)\n",
        "hist_blue = simple_segment(hist_blue)\n",
        "hist_green = simple_segment(hist_green)\n",
        "hist_red = simple_segment(hist_red)\n",
        "\n",
        "hist_seg = cv2.merge([hist_blue, hist_green, hist_red])\n",
        "\n",
        "cv2.imwrite(\"giraffe_gray_hist_seg.png\", hist_gray)\n",
        "cv2.imwrite(\"giraffe_colour_hist_seg.png\", hist_seg)"
      ],
      "execution_count": 12,
      "outputs": [
        {
          "output_type": "execute_result",
          "data": {
            "text/plain": [
              "True"
            ]
          },
          "metadata": {
            "tags": []
          },
          "execution_count": 12
        }
      ]
    },
    {
      "cell_type": "code",
      "metadata": {
        "id": "LOonTPhN4V19",
        "colab_type": "code",
        "colab": {
          "base_uri": "https://localhost:8080/",
          "height": 34
        },
        "outputId": "23698ecb-07c0-486a-bdc6-138937d5661d"
      },
      "source": [
        "# otsu method\n",
        "ret, thr = cv2.threshold(gray, 0, 255, cv2.THRESH_OTSU)\n",
        "\n",
        "hist_gray = image_histogram_equalization(gray)\n",
        "ret1, thr1 = cv2.threshold(hist_gray, 0, 255, cv2.THRESH_OTSU)\n",
        "\n",
        "cv2.imwrite(\"giraffe_otsu.png\", thr)\n",
        "cv2.imwrite(\"giraffe_hist_otsu.png\", thr1)"
      ],
      "execution_count": 11,
      "outputs": [
        {
          "output_type": "execute_result",
          "data": {
            "text/plain": [
              "True"
            ]
          },
          "metadata": {
            "tags": []
          },
          "execution_count": 11
        }
      ]
    },
    {
      "cell_type": "code",
      "metadata": {
        "id": "LpWwyVijcK08",
        "colab_type": "code",
        "colab": {}
      },
      "source": [
        "# image edge detection"
      ],
      "execution_count": null,
      "outputs": []
    },
    {
      "cell_type": "code",
      "metadata": {
        "id": "bsaFspjkviCT",
        "colab_type": "code",
        "colab": {}
      },
      "source": [
        "import numpy as np\n",
        "import cv2\n",
        "import matplotlib.pyplot as plt\n",
        "from scipy import ndimage\n",
        "\n",
        "gray = cv2.imread(\"grain.jpg\", 0)\n",
        "img = cv2.imread(\"giraffe.png\")\n",
        "blue, green, red = cv2.split(img)"
      ],
      "execution_count": 23,
      "outputs": []
    },
    {
      "cell_type": "code",
      "metadata": {
        "id": "phXWaClp-6xP",
        "colab_type": "code",
        "colab": {}
      },
      "source": [
        "# helper function to convert from PIL image format to OpenCV\n",
        "\n",
        "def pil2cv(image):\n",
        "    ''' PIL型 -> OpenCV型 '''\n",
        "    new_image = np.array(image, dtype=np.uint8)\n",
        "    if new_image.ndim == 2: \n",
        "        pass\n",
        "    elif new_image.shape[2] == 3:\n",
        "        new_image = cv2.cvtColor(new_image, cv2.COLOR_RGB2BGR)\n",
        "    elif new_image.shape[2] == 4:\n",
        "        new_image = cv2.cvtColor(new_image, cv2.COLOR_RGBA2BGRA)\n",
        "    return new_image"
      ],
      "execution_count": 16,
      "outputs": []
    },
    {
      "cell_type": "code",
      "metadata": {
        "id": "mbNKfmb7hr9c",
        "colab_type": "code",
        "colab": {
          "base_uri": "https://localhost:8080/",
          "height": 34
        },
        "outputId": "98f8d3a3-46c0-40e8-8c43-382d19a8f8df"
      },
      "source": [
        "# define Sobel filters\n",
        "sobel_y = np.array([np.array([1, 2, 1]), np.array([0, 0, 0]), np.array([-1, -2, -1])])\n",
        "sobel_x = np.array([np.array([-1, 0, 1]), np.array([-2, 0, 2]), np.array([-1, 0, 1])])\n",
        "\n",
        "# remove noise\n",
        "deblur = cv2.GaussianBlur(gray, (3, 3), 0)\n",
        "\n",
        "# convolve filters with image\n",
        "out_y = ndimage.convolve(deblur, sobel_y)\n",
        "out_x = ndimage.convolve(deblur, sobel_x)\n",
        "cv2.imwrite(\"grain_sobel_y.jpg\", out_y)\n",
        "cv2.imwrite(\"grain_sobel_x.jpg\", out_x)"
      ],
      "execution_count": 24,
      "outputs": [
        {
          "output_type": "execute_result",
          "data": {
            "text/plain": [
              "True"
            ]
          },
          "metadata": {
            "tags": []
          },
          "execution_count": 24
        }
      ]
    },
    {
      "cell_type": "code",
      "metadata": {
        "id": "88zTCZrQ95QE",
        "colab_type": "code",
        "colab": {
          "base_uri": "https://localhost:8080/",
          "height": 34
        },
        "outputId": "60ec13f7-8319-4dfb-b77c-e392d0a8b40a"
      },
      "source": [
        "gradient_magnitude = np.sqrt(np.square(out_y) + np.square(out_x))\n",
        "gradient_magnitude *= 255.0 / gradient_magnitude.max()\n",
        "cv2.imwrite(\"grain_sobel.jpg\", pil2cv(gradient_magnitude))"
      ],
      "execution_count": 25,
      "outputs": [
        {
          "output_type": "execute_result",
          "data": {
            "text/plain": [
              "True"
            ]
          },
          "metadata": {
            "tags": []
          },
          "execution_count": 25
        }
      ]
    },
    {
      "cell_type": "code",
      "metadata": {
        "id": "x2EFp5v7jEjM",
        "colab_type": "code",
        "colab": {
          "base_uri": "https://localhost:8080/",
          "height": 34
        },
        "outputId": "179b5c34-1cbe-449f-d8e5-ac9da5a05fa3"
      },
      "source": [
        "import cv2\n",
        "import numpy as np\n",
        "\n",
        "# remove noise\n",
        "deblur = cv2.GaussianBlur(gray, (3, 3), 0)\n",
        "\n",
        "# convolute with proper kernels\n",
        "sobel_x_cv = cv2.Sobel(deblur, cv2.CV_64F, 1, 0, ksize=5)\n",
        "sobel_y_cv = cv2.Sobel(deblur, cv2.CV_64F, 0, 1, ksize=5)\n",
        "cv2.imwrite(\"grain_sobel_y_cv.jpg\", out_y)\n",
        "cv2.imwrite(\"grain_sobel_x_cv.jpg\", out_x)"
      ],
      "execution_count": 26,
      "outputs": [
        {
          "output_type": "execute_result",
          "data": {
            "text/plain": [
              "True"
            ]
          },
          "metadata": {
            "tags": []
          },
          "execution_count": 26
        }
      ]
    },
    {
      "cell_type": "code",
      "metadata": {
        "id": "K9oLj1Qfc7Bo",
        "colab_type": "code",
        "colab": {
          "base_uri": "https://localhost:8080/",
          "height": 34
        },
        "outputId": "1b730940-9b31-4545-82cf-2ca53a62add8"
      },
      "source": [
        "gradient_magnitude = np.sqrt(np.square(sobel_x_cv) + np.square(sobel_y_cv))\n",
        "gradient_magnitude *= 255.0 / gradient_magnitude.max()\n",
        "cv2.imwrite(\"grain_sobel_cv.jpg\", pil2cv(gradient_magnitude))"
      ],
      "execution_count": 27,
      "outputs": [
        {
          "output_type": "execute_result",
          "data": {
            "text/plain": [
              "True"
            ]
          },
          "metadata": {
            "tags": []
          },
          "execution_count": 27
        }
      ]
    },
    {
      "cell_type": "code",
      "metadata": {
        "id": "WPAzP8kBFnaK",
        "colab_type": "code",
        "colab": {
          "base_uri": "https://localhost:8080/",
          "height": 34
        },
        "outputId": "d85c0909-56cf-4aca-93de-5a825e1c08e1"
      },
      "source": [
        "# Canny's criteria\n",
        "\n",
        "def canny(image, sigma=0.33):\n",
        "\t# compute the median of the single channel pixel intensities\n",
        "\tv = np.median(image)\n",
        "\t# apply automatic Canny edge detection using the computed median\n",
        "\tlower = int(max(0, (1.0 - sigma) * v))\n",
        "\tupper = int(min(255, (1.0 + sigma) * v))\n",
        "\tedged = cv2.Canny(image, lower, upper)\n",
        "\t# return the edged image\n",
        "\treturn edged\n",
        "\n",
        "edge = canny(gray, 0.33)\n",
        "cv2.imwrite(\"grain_canny.jpg\", edge)"
      ],
      "execution_count": 28,
      "outputs": [
        {
          "output_type": "execute_result",
          "data": {
            "text/plain": [
              "True"
            ]
          },
          "metadata": {
            "tags": []
          },
          "execution_count": 28
        }
      ]
    },
    {
      "cell_type": "code",
      "metadata": {
        "id": "ViO-2AOi0j5t",
        "colab_type": "code",
        "colab": {
          "base_uri": "https://localhost:8080/",
          "height": 34
        },
        "outputId": "67ca3404-1e2d-4693-d608-900305bbc5ee"
      },
      "source": [
        "# histogram equalized images\n",
        "\n",
        "gray = cv2.imread(\"grain.jpg\", 0)\n",
        "\n",
        "gray_hist = image_histogram_equalization(gray)\n",
        "deblur = cv2.GaussianBlur(gray_hist, (3, 3), 0)\n",
        "\n",
        "# convolute with proper kernels\n",
        "sobel_x_cv = cv2.Sobel(deblur, cv2.CV_64F, 1, 0, ksize=5)\n",
        "sobel_y_cv = cv2.Sobel(deblur, cv2.CV_64F, 0, 1, ksize=5)\n",
        "gradient_magnitude = np.sqrt(np.square(sobel_x_cv) + np.square(sobel_y_cv))\n",
        "gradient_magnitude *= 255.0 / gradient_magnitude.max()\n",
        "cv2.imwrite(\"grain_hist_sobel.jpg\", pil2cv(gradient_magnitude))\n",
        "\n",
        "edge = canny(gray_hist, 0.33)\n",
        "cv2.imwrite(\"giraffe_hist_canny.png\", edge)"
      ],
      "execution_count": 35,
      "outputs": [
        {
          "output_type": "execute_result",
          "data": {
            "text/plain": [
              "True"
            ]
          },
          "metadata": {
            "tags": []
          },
          "execution_count": 35
        }
      ]
    }
  ]
}