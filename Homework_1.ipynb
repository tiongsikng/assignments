{
  "nbformat": 4,
  "nbformat_minor": 0,
  "metadata": {
    "colab": {
      "name": "Homework",
      "provenance": [],
      "collapsed_sections": [],
      "toc_visible": true
    },
    "kernelspec": {
      "name": "python3",
      "display_name": "Python 3"
    }
  },
  "cells": [
    {
      "cell_type": "code",
      "metadata": {
        "id": "uTItXt_a6qeF",
        "colab_type": "code",
        "colab": {}
      },
      "source": [
        "# function to save matrix to a textfile\n",
        "import numpy \n",
        "\n",
        "def save_matrix(name, matrix):\n",
        "  numpy.savetxt(name, matrix, delimiter = ',')  "
      ],
      "execution_count": 0,
      "outputs": []
    },
    {
      "cell_type": "code",
      "metadata": {
        "id": "OlOifzApH0jT",
        "colab_type": "code",
        "colab": {}
      },
      "source": [
        "# define fourier transform (DFT) matrix\n",
        "\n",
        "import numpy as np\n",
        "def DFT_matrix(N):\n",
        "    x, a = np.meshgrid(np.arange(N), np.arange(N))\n",
        "    omega = np.exp(-2 * np.pi * 1j/N)\n",
        "    W = np.power(omega, x * a ) / np.sqrt(N)\n",
        "    return W"
      ],
      "execution_count": 0,
      "outputs": []
    },
    {
      "cell_type": "code",
      "metadata": {
        "id": "JroUdMfm_Q7g",
        "colab_type": "code",
        "colab": {}
      },
      "source": [
        "import numpy as np\n",
        "\n",
        "# declare DFT matrix of size 8x8\n",
        "dftmtx = DFT_matrix(8)\n",
        "save_matrix(\"dftmatrix8.txt\", dftmtx)\n",
        "\n",
        "# declare DFT matrix of size 4x4\n",
        "dftmtx4 = DFT_matrix(4)\n",
        "save_matrix(\"dftmatrix4.txt\", dftmtx4)\n",
        "\n",
        "# conjugate transpose of DFT matrix of size 8x8\n",
        "dftmtxh = np.transpose(np.conj(DFT_matrix(8)))\n",
        "\n",
        "# conjugate transpose of DFT matrix of size 4x4\n",
        "dftmtx4h = np.transpose(np.conj(DFT_matrix(4)))"
      ],
      "execution_count": 0,
      "outputs": []
    },
    {
      "cell_type": "code",
      "metadata": {
        "id": "wUMjglh0lp-X",
        "colab_type": "code",
        "colab": {}
      },
      "source": [
        "# function to convert from PIL image to OpenCV for saving purposes\n",
        "\n",
        "def pil2cv(image):\n",
        "    ''' PIL型 -> OpenCV型 '''\n",
        "    new_image = np.array(image, dtype=np.uint8)\n",
        "    if new_image.ndim == 2: \n",
        "        pass\n",
        "    elif new_image.shape[2] == 3:\n",
        "        new_image = cv2.cvtColor(new_image, cv2.COLOR_RGB2BGR)\n",
        "    elif new_image.shape[2] == 4:\n",
        "        new_image = cv2.cvtColor(new_image, cv2.COLOR_RGBA2BGRA)\n",
        "    return new_image"
      ],
      "execution_count": 0,
      "outputs": []
    },
    {
      "cell_type": "code",
      "metadata": {
        "id": "6RhbpeXeTLHo",
        "colab_type": "code",
        "outputId": "8a5da8e5-2cf5-4b44-e064-5bf8aa356620",
        "colab": {
          "base_uri": "https://localhost:8080/",
          "height": 67
        }
      },
      "source": [
        "# convert image into grayscale, then applying DFT transform\n",
        "import cv2\n",
        "\n",
        "image = cv2.imread('image.jpg')\n",
        "gray_image = cv2.cvtColor(image, cv2.COLOR_BGR2GRAY)\n",
        "cv2.imwrite('gray_image.jpg', gray_image)\n",
        "block_img = np.zeros(image.shape)\n",
        "im_h, im_w = image.shape[:2]\n",
        "bl_h, bl_w = 8, 8\n",
        "\n",
        "for row in np.arange(im_h - bl_h + 1, step=bl_h):\n",
        "    for col in np.arange(im_w - bl_w + 1, step=bl_w):\n",
        "        block_img[row:row+bl_h, col:col+bl_w] = dftmtx.dot(image[row:row+bl_h, col:col+bl_w])\n",
        "\n",
        "cv2.imwrite(\"dft_image.jpg\", block_img)"
      ],
      "execution_count": 0,
      "outputs": [
        {
          "output_type": "stream",
          "text": [
            "/usr/local/lib/python3.6/dist-packages/ipykernel_launcher.py:12: ComplexWarning: Casting complex values to real discards the imaginary part\n",
            "  if sys.path[0] == '':\n"
          ],
          "name": "stderr"
        },
        {
          "output_type": "execute_result",
          "data": {
            "text/plain": [
              "True"
            ]
          },
          "metadata": {
            "tags": []
          },
          "execution_count": 28
        }
      ]
    },
    {
      "cell_type": "code",
      "metadata": {
        "id": "F-_-EYFgQwf5",
        "colab_type": "code",
        "colab": {}
      },
      "source": [
        "import numpy as np\n",
        "\n",
        "# define and save matrices S and I for subsampling and interpolation respectively\n",
        "s = np.asarray([[1/2, 1/2, 0, 0, 0, 0, 0, 0], [0, 0, 1/2, 1/2, 0, 0, 0, 0], [0, 0, 0, 0, 1/2, 1/2, 0, 0], [0, 0, 0, 0, 0, 0, 1/2, 1/2]])\n",
        "save_matrix(\"s.txt\", s)\n",
        "i = np.asarray([[1, 0, 0, 0], [1/2, 1/2, 0, 0], [0, 1, 0, 0], [0, 1/2, 1/2, 0], [0, 0, 1, 0], [0, 0, 1/2, 1/2], [0, 0, 0, 1], [0, 0, 0, 1]])\n",
        "save_matrix(\"i.txt\", i)\n",
        "\n",
        "# define S^T and I^T\n",
        "st = np.transpose(s)\n",
        "save_matrix(\"st.txt\", st)\n",
        "it = np.transpose(i)\n",
        "save_matrix(\"it.txt\", it)"
      ],
      "execution_count": 0,
      "outputs": []
    },
    {
      "cell_type": "code",
      "metadata": {
        "id": "rBhiL545tvaz",
        "colab_type": "code",
        "outputId": "8301985f-f6da-41ba-a8e1-a42552dd0fb7",
        "colab": {
          "base_uri": "https://localhost:8080/",
          "height": 67
        }
      },
      "source": [
        "import numpy as np\n",
        "import skimage.measure\n",
        "\n",
        "image = cv2.imread(\"image.jpg\")\n",
        "image = cv2.cvtColor(image, cv2.COLOR_BGR2GRAY)\n",
        "inverse_dft_interp = np.zeros(image.shape)\n",
        "inverse_dft_samp = np.zeros(image.shape)\n",
        "sample_space = np.zeros(image.shape)\n",
        "interp_space = np.zeros(image.shape)\n",
        "sample_freq = np.zeros(image.shape)\n",
        "interp_freq = np.zeros(image.shape)\n",
        "im_h, im_w = image.shape[:2]\n",
        "bl_h, bl_w = 8, 8\n",
        "sm_h, sm_w = 4, 4\n",
        "\n",
        "# perform subsampling and interpolation for spatial domain\n",
        "# subsample gray image, f_4 (spatial)\n",
        "gray_image = cv2.imread(\"image.jpg\")\n",
        "gray_image = cv2.cvtColor(gray_image, cv2.COLOR_BGR2GRAY)\n",
        "for row in np.arange(im_h - bl_h + 1, step=bl_h):\n",
        "      for col in np.arange(im_w - bl_w + 1, step=bl_w):        \n",
        "        sample_space[row:row+sm_h, col:col+sm_w] = s.dot(gray_image[row:row+bl_h, col:col+bl_w]).dot(st)\n",
        "cv2.imwrite(\"sampled_spatial.jpg\", sample_space)\n",
        "\n",
        "# interpolate sampled image, f_8 (spatial)\n",
        "sampspace = cv2.imread(\"sampled_spatial.jpg\")\n",
        "sampspace = cv2.cvtColor(sampspace, cv2.COLOR_BGR2GRAY)\n",
        "for row in np.arange(im_h - bl_h + 1, step=bl_h):\n",
        "      for col in np.arange(im_w - bl_w + 1, step=bl_w):        \n",
        "        interp_space[row:row+bl_h, col:col+bl_w] = i.dot(sampspace[row:row+sm_h, col:col+sm_w]).dot(it)\n",
        "cv2.imwrite(\"interpolated_spatial.jpg\", interp_space)   \n",
        "\n",
        "# perform subsampling and interpolation for frequency domain\n",
        "# subsample dft image, F_4 (frequency)   \n",
        "dft_image = cv2.imread(\"dft_image.jpg\")\n",
        "dft_image = cv2.cvtColor(dft_image, cv2.COLOR_BGR2GRAY)\n",
        "for row in np.arange(im_h - bl_h + 1, step=bl_h):\n",
        "      for col in np.arange(im_w - bl_w + 1, step=bl_w):\n",
        "        sample_freq[row:row+sm_h, col:col+sm_w] = dftmtx4.dot(s).dot(dftmtxh).dot(dft_image[row:row+bl_h, col:col+bl_w]).dot(dftmtxh).dot(st).dot(dftmtx4)\n",
        "cv2.imwrite(\"sampled_frequency.jpg\", sample_freq)\n",
        "\n",
        "# interpolate sampled image, F_8 (frequency)\n",
        "sampfreq = cv2.imread(\"sampled_frequency.jpg\")\n",
        "sampfreq = cv2.cvtColor(sampfreq, cv2.COLOR_BGR2GRAY)\n",
        "for row in np.arange(im_h - bl_h + 1, step=bl_h):\n",
        "      for col in np.arange(im_w - bl_w + 1, step=bl_w):\n",
        "        interp_freq[row:row+bl_h, col:col+bl_w] = dftmtx.dot(i).dot(dftmtx4h).dot(sampfreq[row:row+sm_h, col:col+sm_w]).dot(dftmtx4h).dot(it).dot(dftmtx)\n",
        "cv2.imwrite(\"interpolated_frequency.jpg\", interp_freq)    "
      ],
      "execution_count": 0,
      "outputs": [
        {
          "output_type": "stream",
          "text": [
            "/usr/local/lib/python3.6/dist-packages/ipykernel_launcher.py:39: ComplexWarning: Casting complex values to real discards the imaginary part\n",
            "/usr/local/lib/python3.6/dist-packages/ipykernel_launcher.py:47: ComplexWarning: Casting complex values to real discards the imaginary part\n"
          ],
          "name": "stderr"
        },
        {
          "output_type": "execute_result",
          "data": {
            "text/plain": [
              "True"
            ]
          },
          "metadata": {
            "tags": []
          },
          "execution_count": 37
        }
      ]
    },
    {
      "cell_type": "code",
      "metadata": {
        "id": "Vq8aEcANkw5z",
        "colab_type": "code",
        "outputId": "94b1a7f2-ba66-47b7-af96-e54857c8470c",
        "colab": {
          "base_uri": "https://localhost:8080/",
          "height": 101
        }
      },
      "source": [
        "# inverse DFT for sampled image in frequency domain\n",
        "samplefreq = cv2.imread(\"sampled_frequency.jpg\")\n",
        "samplefreq = cv2.cvtColor(samplefreq, cv2.COLOR_BGR2GRAY)\n",
        "for row in np.arange(im_h - bl_h + 1, step=bl_h):\n",
        "      for col in np.arange(im_w - bl_w + 1, step=bl_w):        \n",
        "        inverse_dft_samp[row:row+sm_h, col:col+sm_w] = samplefreq[row:row+sm_h, col:col+sm_h].dot(dftmtx4h)\n",
        "cv2.imwrite(\"inverse_dft_samp.jpg\", inverse_dft_samp)\n",
        "\n",
        "# inverse DFT for final interpolated image in frequency domain\n",
        "interpfreq = cv2.imread(\"sampled_frequency.jpg\")\n",
        "interpfreq = cv2.cvtColor(interpfreq, cv2.COLOR_BGR2GRAY)\n",
        "for row in np.arange(im_h - bl_h + 1, step=bl_h):\n",
        "      for col in np.arange(im_w - bl_w + 1, step=bl_w):        \n",
        "        inverse_dft_interp[row:row+bl_h, col:col+bl_w] = interpfreq[row:row+bl_h, col:col+bl_w].dot(dftmtxh)\n",
        "cv2.imwrite(\"inverse_dft_interp.jpg\", inverse_dft_interp)"
      ],
      "execution_count": 0,
      "outputs": [
        {
          "output_type": "stream",
          "text": [
            "/usr/local/lib/python3.6/dist-packages/ipykernel_launcher.py:5: ComplexWarning: Casting complex values to real discards the imaginary part\n",
            "  \"\"\"\n",
            "/usr/local/lib/python3.6/dist-packages/ipykernel_launcher.py:13: ComplexWarning: Casting complex values to real discards the imaginary part\n",
            "  del sys.path[0]\n"
          ],
          "name": "stderr"
        },
        {
          "output_type": "execute_result",
          "data": {
            "text/plain": [
              "True"
            ]
          },
          "metadata": {
            "tags": []
          },
          "execution_count": 38
        }
      ]
    }
  ]
}