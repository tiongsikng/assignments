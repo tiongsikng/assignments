{
  "nbformat": 4,
  "nbformat_minor": 0,
  "metadata": {
    "colab": {
      "name": "Transform Theory",
      "provenance": [],
      "collapsed_sections": []
    },
    "kernelspec": {
      "name": "python3",
      "display_name": "Python 3"
    }
  },
  "cells": [
    {
      "cell_type": "code",
      "metadata": {
        "id": "36mtOpt8F8fI"
      },
      "source": [
        "# define custom filter bank and load images\r\n",
        "import pywt\r\n",
        "from pywt import dwt2, idwt2, dwt, idwt, wavedec\r\n",
        "import cv2\r\n",
        "import math\r\n",
        "import numpy as np\r\n",
        "\r\n",
        "class NewFilterBank(object):\r\n",
        "  @property\r\n",
        "  def filter_bank(self):\r\n",
        "    rt = math.sqrt(4/9)\r\n",
        "    dec_lo, dec_hi, rec_lo, rec_hi = [rt, -rt*0.25, rt*0.25, rt], [rt, rt*0.25, rt*0.25, -rt], [rt, rt*0.25, -rt*0.25, rt], [-rt, rt*0.25, rt*0.25, rt]\r\n",
        "    return [dec_lo, dec_hi, rec_lo, rec_hi]\r\n",
        "filter_bank = NewFilterBank()\r\n",
        "newWavelet = pywt.Wavelet(name=\"newWavelet\", filter_bank=filter_bank)\r\n",
        "\r\n",
        "lena_image = 'drive/My Drive/lena_grayscale.jpg'\r\n",
        "barbara_image = 'drive/My Drive/barbara_grayscale.png'\r\n",
        "img = cv2.imread(lena_image, cv2.COLOR_BGR2GRAY)"
      ],
      "execution_count": 221,
      "outputs": []
    },
    {
      "cell_type": "code",
      "metadata": {
        "colab": {
          "base_uri": "https://localhost:8080/"
        },
        "id": "k2v5ybKQzun9",
        "outputId": "49c72580-d0a0-44de-cb76-ae3866c202e9"
      },
      "source": [
        "# perform DWT and IDWT\r\n",
        "# 1D wavelet transform\r\n",
        "(L, H) = dwt(img, newWavelet)\r\n",
        "decomp_1d = np.hstack((L, H))\r\n",
        "idwt_1d = idwt(L, H, newWavelet)\r\n",
        "cv2.imwrite('decomp_1d.png', decomp_1d)\r\n",
        "cv2.imwrite('idwt_1d.png', idwt_1d)\r\n",
        "\r\n",
        "# 2D wavelet transform\r\n",
        "# first level decomposition\r\n",
        "LL3, (HL3, LH3, HH3) = dwt2(img, newWavelet) \r\n",
        "cv2.imwrite('LL3.jpg', LL3)\r\n",
        "cv2.imwrite('HL3.jpg', HL3)\r\n",
        "cv2.imwrite('LH3.jpg', LH3)\r\n",
        "cv2.imwrite('HH3.jpg', HH3)\r\n",
        "idwt_1st_2d = idwt2((LL3, (HL3, LH3, HH3)), newWavelet)\r\n",
        "cv2.imwrite('idwt_1st_2d.jpg', idwt_1st_2d)\r\n",
        "\r\n",
        "# second level decomposition\r\n",
        "LL2, (HL2, LH2, HH2) = dwt2(LL3, newWavelet) \r\n",
        "cv2.imwrite('LL2.jpg', LL2)\r\n",
        "cv2.imwrite('HL2.jpg', HL2)\r\n",
        "cv2.imwrite('LH2.jpg', LH2)\r\n",
        "cv2.imwrite('HH2.jpg', HH2)\r\n",
        "idwt_2nd_2d = idwt2((LL2, (HL2, LH2, HH2)), newWavelet)\r\n",
        "cv2.imwrite('idwt_2nd_2d.jpg', idwt_2nd_2d)\r\n",
        "\r\n",
        "# third level decomposition\r\n",
        "LL1, (HL1, LH1, HH1) = dwt2(LL2, newWavelet) \r\n",
        "cv2.imwrite('LL1.jpg', LL1)\r\n",
        "cv2.imwrite('HL1.jpg', HL2)\r\n",
        "cv2.imwrite('LH1.jpg', LH2)\r\n",
        "cv2.imwrite('HH1.jpg', HH2)\r\n",
        "idwt_3rd_2d = idwt2((LL1, (HL1, LH1, HH1)), newWavelet)\r\n",
        "cv2.imwrite('idwt_3rd_2d.jpg', idwt_3rd_2d)"
      ],
      "execution_count": 223,
      "outputs": [
        {
          "output_type": "execute_result",
          "data": {
            "text/plain": [
              "True"
            ]
          },
          "metadata": {
            "tags": []
          },
          "execution_count": 223
        }
      ]
    },
    {
      "cell_type": "code",
      "metadata": {
        "colab": {
          "base_uri": "https://localhost:8080/"
        },
        "id": "4xGmbIVNpdWl",
        "outputId": "9faddee6-712f-4785-817e-955d7df4ee68"
      },
      "source": [
        "# stacking the images together\r\n",
        "# 1D level\r\n",
        "vert_1d = np.hstack((L, H))\r\n",
        "cv2.imwrite('vert_1d.jpg', vert_1d)\r\n",
        "\r\n",
        "# 1st level\r\n",
        "top_1st = np.hstack((LL3, HL3))\r\n",
        "bottom_1st = np.hstack((LH3, HH3))\r\n",
        "decomp_1st = np.vstack((top_1st, bottom_1st))\r\n",
        "cv2.imwrite('decomp_1st.jpg', decomp_1st)\r\n",
        "\r\n",
        "# 2nd level\r\n",
        "top_2nd = np.hstack((LL2, HL2))\r\n",
        "bottom_2nd = np.hstack((LH2, HH2))\r\n",
        "decomp_2nd = np.vstack((top_2nd, bottom_2nd))\r\n",
        "cv2.imwrite('decomp_2nd.jpg', decomp_2nd)\r\n",
        "\r\n",
        "# 3rd level\r\n",
        "top_3rd = np.hstack((LL1, HL1))\r\n",
        "bottom_3rd = np.hstack((LH1, HH1))\r\n",
        "decomp_3rd = np.vstack((top_3rd, bottom_3rd))\r\n",
        "cv2.imwrite('decomp_3rd.jpg', decomp_3rd)"
      ],
      "execution_count": 215,
      "outputs": [
        {
          "output_type": "execute_result",
          "data": {
            "text/plain": [
              "True"
            ]
          },
          "metadata": {
            "tags": []
          },
          "execution_count": 215
        }
      ]
    },
    {
      "cell_type": "code",
      "metadata": {
        "colab": {
          "base_uri": "https://localhost:8080/"
        },
        "id": "-z6rwxl_3Gv0",
        "outputId": "d96866d8-0ebf-4d50-bab7-26007d41ddb5"
      },
      "source": [
        "# compute energy of subband\r\n",
        "\r\n",
        "def energy(arr):\r\n",
        "  energy = np.sum(np.square(arr))\r\n",
        "  return round(energy, 3)\r\n",
        "\r\n",
        "# total energy\r\n",
        "total_ = energy(LL3) + energy(HL3) + energy(LH3) + energy(HH3) \r\n",
        "+ energy(LL2) + energy(HL2) + energy(LH2) + energy(HH2) \r\n",
        "+ energy(LL1) + energy(HL1) + energy(LH1) + energy(HH1)\r\n",
        "\r\n",
        "print(\"Total energy:\", total_)\r\n",
        "print(\"LL3:\", energy(LL3), \"Percentage:\", (energy(LL3)/total_)*100)\r\n",
        "print(\"HL3:\", energy(HL3), \"Percentage:\", (energy(HL3)/total_)*100)\r\n",
        "print(\"LH3:\", energy(LH3), \"Percentage:\", (energy(LH3)/total_)*100)\r\n",
        "print(\"HH3:\", energy(HH3), \"Percentage:\", (energy(HH3)/total_)*100)\r\n",
        "print(\"LL2:\", energy(LL2), \"Percentage:\", (energy(LL2)/total_)*100)\r\n",
        "print(\"HL2:\", energy(HL2), \"Percentage:\", (energy(HL2)/total_)*100)\r\n",
        "print(\"LH2:\", energy(LH2), \"Percentage:\", (energy(LH2)/total_)*100)\r\n",
        "print(\"HH2:\", energy(HH2), \"Percentage:\", (energy(HH2)/total_)*100)\r\n",
        "print(\"LL1:\", energy(LL1), \"Percentage:\", (energy(LL1)/total_)*100)\r\n",
        "print(\"HL1:\", energy(HL1), \"Percentage:\", (energy(HL1)/total_)*100)\r\n",
        "print(\"LH1:\", energy(LH1), \"Percentage:\", (energy(LH1)/total_)*100)\r\n",
        "print(\"HH1:\", energy(HH1), \"Percentage:\", (energy(HH1)/total_)*100)"
      ],
      "execution_count": 216,
      "outputs": [
        {
          "output_type": "stream",
          "text": [
            "Total energy: 3947385928.818\n",
            "LL3: 3428123057.576 Percentage: 86.84539893981213\n",
            "HL3: 248339186.7 Percentage: 6.291231492897436\n",
            "LH3: 238246431.493 Percentage: 6.035549495013279\n",
            "HH3: 32677253.049 Percentage: 0.8278200722771698\n",
            "LL2: 2717241014.547 Percentage: 68.83646705810311\n",
            "HL2: 184337019.185 Percentage: 4.669850440496393\n",
            "LH2: 195005265.78 Percentage: 4.9401114888807465\n",
            "HH2: 19953038.458 Percentage: 0.50547473233697\n",
            "LL1: 2158223937.582 Percentage: 54.67476391973296\n",
            "HL1: 150139479.734 Percentage: 3.803516616855286\n",
            "LH1: 165009247.402 Percentage: 4.180215727004179\n",
            "HH1: 17190797.107 Percentage: 0.43549826181164886\n"
          ],
          "name": "stdout"
        }
      ]
    },
    {
      "cell_type": "code",
      "metadata": {
        "id": "4HI4ZvXRwz3V",
        "colab": {
          "base_uri": "https://localhost:8080/"
        },
        "outputId": "8768e140-326c-4727-a25a-967cd6ff14de"
      },
      "source": [
        "# calculate MSE of compressed image with original image\r\n",
        "import numpy as np\r\n",
        "\r\n",
        "def mse(imageA, imageB):\r\n",
        "  imageA, imageB = np.array(imageA), np.array(imageB)\r\n",
        "  err = np.sum((imageA.astype(\"float\") - imageB.astype(\"float\")) ** 2)\r\n",
        "  err /= float(imageA.shape[0] * imageA.shape[1])\r\n",
        "\r\n",
        "  return err\r\n",
        "\r\n",
        "# convert image format for cv2\r\n",
        "def pil2cv(image):\r\n",
        "  new_image = np.array(image, dtype=np.uint8)\r\n",
        "  if new_image.ndim == 2: \r\n",
        "      pass\r\n",
        "  elif new_image.shape[2] == 3:\r\n",
        "      new_image = cv2.cvtColor(new_image, cv2.COLOR_RGB2BGR)\r\n",
        "  elif new_image.shape[2] == 4:\r\n",
        "      new_image = cv2.cvtColor(new_image, cv2.COLOR_RGBA2BGRA)\r\n",
        "  return new_image\r\n",
        "\r\n",
        "# calculate PSNR\r\n",
        "def psnr(imageA, imageB):\r\n",
        "  psnr = cv2.PSNR(imageA, imageB)\r\n",
        "  return psnr\r\n",
        "\r\n",
        "# perform quick DWT with levels for easy reconstruction\r\n",
        "def dwt(img, wavelet, level):\r\n",
        "  coeffs = pywt.wavedec2(img, wavelet, level)\r\n",
        "  inversed = pywt.waverec2(coeffs, wavelet)\r\n",
        "  return inversed\r\n",
        "\r\n",
        "idwt_1st_2d = dwt(img, newWavelet, 1)\r\n",
        "idwt_2nd_2d = dwt(img, newWavelet, 2)\r\n",
        "idwt_3rd_2d = dwt(img, newWavelet, 3)\r\n",
        "\r\n",
        "print(\"MSE for 1st level decomposition:\", mse(idwt_1st_2d, img), \"PSNR:\", psnr(pil2cv(idwt_1st_2d), img))\r\n",
        "print(\"MSE for 2nd level decomposition:\", mse(idwt_2nd_2d, img), \"PSNR:\", psnr(pil2cv(idwt_2nd_2d), img))\r\n",
        "print(\"MSE for 3rd level decomposition:\", mse(idwt_3rd_2d, img), \"PSNR:\", psnr(pil2cv(idwt_3rd_2d), img))\r\n",
        "\r\n",
        "cv2.imwrite(\"idwt_1st_2d.jpg\", idwt_1st_2d)\r\n",
        "cv2.imwrite(\"idwt_2nd_2d.jpg\", idwt_2nd_2d)\r\n",
        "cv2.imwrite(\"idwt_3rd_2d.jpg\", idwt_3rd_2d)"
      ],
      "execution_count": 217,
      "outputs": [
        {
          "output_type": "stream",
          "text": [
            "MSE for 1st level decomposition: 17071.34551444409 PSNR: 8.472233682832812\n",
            "MSE for 2nd level decomposition: 17077.19374549213 PSNR: 8.469523524648707\n",
            "MSE for 3rd level decomposition: 17133.016248341803 PSNR: 8.50033588018306\n"
          ],
          "name": "stdout"
        },
        {
          "output_type": "execute_result",
          "data": {
            "text/plain": [
              "True"
            ]
          },
          "metadata": {
            "tags": []
          },
          "execution_count": 217
        }
      ]
    }
  ]
}