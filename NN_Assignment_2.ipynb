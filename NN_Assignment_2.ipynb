{
  "nbformat": 4,
  "nbformat_minor": 0,
  "metadata": {
    "colab": {
      "name": "NN Assignment - 2",
      "provenance": [],
      "collapsed_sections": []
    },
    "kernelspec": {
      "name": "python3",
      "display_name": "Python 3"
    },
    "accelerator": "GPU"
  },
  "cells": [
    {
      "cell_type": "code",
      "metadata": {
        "id": "GutzfBTWugJ6",
        "colab_type": "code",
        "outputId": "075d9096-adf5-4537-8ebb-cd790bad82bb",
        "colab": {
          "base_uri": "https://localhost:8080/",
          "height": 977
        }
      },
      "source": [
        "from keras import applications\n",
        "\n",
        "vgg = applications.VGG19(weights='imagenet', include_top=False)\n",
        "vgg.summary()"
      ],
      "execution_count": 0,
      "outputs": [
        {
          "output_type": "stream",
          "text": [
            "Downloading data from https://github.com/fchollet/deep-learning-models/releases/download/v0.1/vgg19_weights_tf_dim_ordering_tf_kernels_notop.h5\n",
            "80142336/80134624 [==============================] - 1s 0us/step\n",
            "Model: \"vgg19\"\n",
            "_________________________________________________________________\n",
            "Layer (type)                 Output Shape              Param #   \n",
            "=================================================================\n",
            "input_16 (InputLayer)        (None, None, None, 3)     0         \n",
            "_________________________________________________________________\n",
            "block1_conv1 (Conv2D)        (None, None, None, 64)    1792      \n",
            "_________________________________________________________________\n",
            "block1_conv2 (Conv2D)        (None, None, None, 64)    36928     \n",
            "_________________________________________________________________\n",
            "block1_pool (MaxPooling2D)   (None, None, None, 64)    0         \n",
            "_________________________________________________________________\n",
            "block2_conv1 (Conv2D)        (None, None, None, 128)   73856     \n",
            "_________________________________________________________________\n",
            "block2_conv2 (Conv2D)        (None, None, None, 128)   147584    \n",
            "_________________________________________________________________\n",
            "block2_pool (MaxPooling2D)   (None, None, None, 128)   0         \n",
            "_________________________________________________________________\n",
            "block3_conv1 (Conv2D)        (None, None, None, 256)   295168    \n",
            "_________________________________________________________________\n",
            "block3_conv2 (Conv2D)        (None, None, None, 256)   590080    \n",
            "_________________________________________________________________\n",
            "block3_conv3 (Conv2D)        (None, None, None, 256)   590080    \n",
            "_________________________________________________________________\n",
            "block3_conv4 (Conv2D)        (None, None, None, 256)   590080    \n",
            "_________________________________________________________________\n",
            "block3_pool (MaxPooling2D)   (None, None, None, 256)   0         \n",
            "_________________________________________________________________\n",
            "block4_conv1 (Conv2D)        (None, None, None, 512)   1180160   \n",
            "_________________________________________________________________\n",
            "block4_conv2 (Conv2D)        (None, None, None, 512)   2359808   \n",
            "_________________________________________________________________\n",
            "block4_conv3 (Conv2D)        (None, None, None, 512)   2359808   \n",
            "_________________________________________________________________\n",
            "block4_conv4 (Conv2D)        (None, None, None, 512)   2359808   \n",
            "_________________________________________________________________\n",
            "block4_pool (MaxPooling2D)   (None, None, None, 512)   0         \n",
            "_________________________________________________________________\n",
            "block5_conv1 (Conv2D)        (None, None, None, 512)   2359808   \n",
            "_________________________________________________________________\n",
            "block5_conv2 (Conv2D)        (None, None, None, 512)   2359808   \n",
            "_________________________________________________________________\n",
            "block5_conv3 (Conv2D)        (None, None, None, 512)   2359808   \n",
            "_________________________________________________________________\n",
            "block5_conv4 (Conv2D)        (None, None, None, 512)   2359808   \n",
            "_________________________________________________________________\n",
            "block5_pool (MaxPooling2D)   (None, None, None, 512)   0         \n",
            "=================================================================\n",
            "Total params: 20,024,384\n",
            "Trainable params: 20,024,384\n",
            "Non-trainable params: 0\n",
            "_________________________________________________________________\n"
          ],
          "name": "stdout"
        }
      ]
    },
    {
      "cell_type": "code",
      "metadata": {
        "id": "Ms10_nRAHHjO",
        "colab_type": "code",
        "outputId": "99f21173-9bd7-405c-83f4-0b2ce03d9e1c",
        "colab": {
          "base_uri": "https://localhost:8080/",
          "height": 1000
        }
      },
      "source": [
        "import tensorflow as tf\n",
        "from tensorflow import keras\n",
        "import numpy as np\n",
        "import matplotlib.pyplot as plt\n",
        "from keras.datasets import cifar10\n",
        "from keras.models import load_model\n",
        "from keras.utils import plot_model\n",
        "from keras import regularizers\n",
        "from imgaug import augmenters as iaa\n",
        "import cv2\n",
        "from keras import backend as K\n",
        "\n",
        "epochs = 50\n",
        "batch_size = 32\n",
        "img_width, img_height = 32, 32\n",
        "weight_decay = 0.0005\n",
        "\n",
        "# handle image format\n",
        "if K.image_data_format() == 'channels_first':\n",
        "    input_shape = (3, img_width, img_height)\n",
        "else:\n",
        "    input_shape = (img_width, img_height, 3)\n",
        "\n",
        "# download cifar data and split into train and test sets\n",
        "(x_train, y_train), (x_test, y_test) = cifar10.load_data()\n",
        "\n",
        "class_names = ['Airplane', 'Automobile', 'Bird', 'Cat', 'Deer', \n",
        "               'Dog', 'Frog', 'Horse', 'Ship', 'Truck']\n",
        "x_train = x_train / 255.0\n",
        "x_test = x_test / 255.0\n",
        "\n",
        "# augment image, cropping, flipping, Gaussian blur\n",
        "seq = iaa.Sequential([\n",
        "    iaa.Fliplr(0.5),\n",
        "    iaa.GaussianBlur(sigma=(0, 0.5))\n",
        "])\n",
        "\n",
        "images_aug = seq.augment_images(x_train)\n",
        "new_x_train = np.append(x_train, images_aug, axis=0)\n",
        "new_y_train = np.append(y_train, y_train, axis=0)\n",
        "\n",
        "model = keras.Sequential([    \n",
        "  keras.layers.Conv2D(filters=64, kernel_size=3, padding='same', activation='relu', input_shape=input_shape),\n",
        "  keras.layers.Conv2D(filters=64, kernel_size=3, padding='same', activation='relu'),\n",
        "  keras.layers.MaxPooling2D(pool_size=(2,2)),  \n",
        "  keras.layers.BatchNormalization(),\n",
        "  \n",
        "  keras.layers.Conv2D(filters=128, kernel_size=3, padding='same', activation='relu', kernel_regularizer=regularizers.l2(weight_decay)),\n",
        "  keras.layers.Conv2D(filters=128, kernel_size=3, padding='same', activation='relu', kernel_regularizer=regularizers.l2(weight_decay)),\n",
        "  keras.layers.MaxPooling2D(pool_size=(2,2)),  \n",
        "  \n",
        "  keras.layers.Conv2D(filters=256, kernel_size=3, padding='same', activation='relu', kernel_regularizer=regularizers.l2(weight_decay)),\n",
        "  keras.layers.Conv2D(filters=256, kernel_size=3, padding='same', activation='relu', kernel_regularizer=regularizers.l2(weight_decay)),\n",
        "  keras.layers.Conv2D(filters=256, kernel_size=3, padding='same', activation='relu', kernel_regularizer=regularizers.l2(weight_decay)),\n",
        "  keras.layers.MaxPooling2D(pool_size=(2,2)),\n",
        "  keras.layers.BatchNormalization(),\n",
        "  \n",
        "  keras.layers.Conv2D(filters=512, kernel_size=3, padding='same', activation='relu', kernel_regularizer=regularizers.l2(weight_decay)),\n",
        "  keras.layers.Conv2D(filters=512, kernel_size=3, padding='same', activation='relu', kernel_regularizer=regularizers.l2(weight_decay)),\n",
        "  keras.layers.Conv2D(filters=512, kernel_size=3, padding='same', activation='relu', kernel_regularizer=regularizers.l2(weight_decay)),\n",
        "  keras.layers.MaxPooling2D(pool_size=(2,2)),\n",
        "  keras.layers.BatchNormalization(),\n",
        "  \n",
        "  keras.layers.Conv2D(filters=512, kernel_size=3, padding='same', activation='relu', kernel_regularizer=regularizers.l2(weight_decay)),\n",
        "  keras.layers.Conv2D(filters=512, kernel_size=3, padding='same', activation='relu', kernel_regularizer=regularizers.l2(weight_decay)),\n",
        "  keras.layers.Conv2D(filters=512, kernel_size=3, padding='same', activation='relu', kernel_regularizer=regularizers.l2(weight_decay)),\n",
        "  keras.layers.MaxPooling2D(pool_size=(2,2)),\n",
        "  keras.layers.BatchNormalization(),\n",
        "\n",
        "  keras.layers.Flatten(),\n",
        "  keras.layers.Dense(512, activation=tf.nn.relu),\n",
        "  keras.layers.Dropout(0.5),    \n",
        "  keras.layers.Dense(10, activation=tf.nn.softmax)\n",
        "])\n",
        "\n",
        "model.compile(optimizer='adam', loss='sparse_categorical_crossentropy', metrics=['accuracy'])\n",
        "trainmodel = model.fit(new_x_train, new_y_train, epochs=epochs, validation_data=(x_test, y_test), batch_size=batch_size)\n",
        "\n",
        "test_loss, test_acc = model.evaluate(x_test, y_test)"
      ],
      "execution_count": 0,
      "outputs": [
        {
          "output_type": "stream",
          "text": [
            "Using TensorFlow backend.\n"
          ],
          "name": "stderr"
        },
        {
          "output_type": "stream",
          "text": [
            "Epoch 1/50\n",
            "3125/3125 [==============================] - 208s 66ms/step - loss: 2.4267 - accuracy: 0.3047 - val_loss: 1.9500 - val_accuracy: 0.3364\n",
            "Epoch 2/50\n",
            "3125/3125 [==============================] - 207s 66ms/step - loss: 1.4902 - accuracy: 0.5155 - val_loss: 1.5419 - val_accuracy: 0.5112\n",
            "Epoch 3/50\n",
            "3125/3125 [==============================] - 207s 66ms/step - loss: 1.2185 - accuracy: 0.6347 - val_loss: 1.2363 - val_accuracy: 0.6086\n",
            "Epoch 4/50\n",
            "3125/3125 [==============================] - 206s 66ms/step - loss: 1.0955 - accuracy: 0.6818 - val_loss: 1.1887 - val_accuracy: 0.6440\n",
            "Epoch 5/50\n",
            "3125/3125 [==============================] - 206s 66ms/step - loss: 1.0047 - accuracy: 0.7176 - val_loss: 1.0936 - val_accuracy: 0.6936\n",
            "Epoch 6/50\n",
            "3125/3125 [==============================] - 206s 66ms/step - loss: 0.9430 - accuracy: 0.7444 - val_loss: 1.1252 - val_accuracy: 0.6919\n",
            "Epoch 7/50\n",
            "3125/3125 [==============================] - 206s 66ms/step - loss: 0.8983 - accuracy: 0.7641 - val_loss: 1.0169 - val_accuracy: 0.7317\n",
            "Epoch 8/50\n",
            "3125/3125 [==============================] - 206s 66ms/step - loss: 0.8612 - accuracy: 0.7792 - val_loss: 1.0033 - val_accuracy: 0.7490\n",
            "Epoch 9/50\n",
            "3125/3125 [==============================] - 206s 66ms/step - loss: 0.8342 - accuracy: 0.7910 - val_loss: 1.0366 - val_accuracy: 0.7276\n",
            "Epoch 10/50\n",
            "3125/3125 [==============================] - 207s 66ms/step - loss: 0.8088 - accuracy: 0.8005 - val_loss: 1.1719 - val_accuracy: 0.7034\n",
            "Epoch 11/50\n",
            "3125/3125 [==============================] - 207s 66ms/step - loss: 0.7919 - accuracy: 0.8081 - val_loss: 1.2061 - val_accuracy: 0.7008\n",
            "Epoch 12/50\n",
            "3125/3125 [==============================] - 208s 66ms/step - loss: 0.7780 - accuracy: 0.8143 - val_loss: 0.9060 - val_accuracy: 0.7637\n",
            "Epoch 13/50\n",
            "3125/3125 [==============================] - 207s 66ms/step - loss: 0.7621 - accuracy: 0.8201 - val_loss: 1.0432 - val_accuracy: 0.7398\n",
            "Epoch 14/50\n",
            "3125/3125 [==============================] - 207s 66ms/step - loss: 0.7541 - accuracy: 0.8229 - val_loss: 1.0035 - val_accuracy: 0.7498\n",
            "Epoch 15/50\n",
            "3125/3125 [==============================] - 207s 66ms/step - loss: 0.7412 - accuracy: 0.8312 - val_loss: 0.8725 - val_accuracy: 0.7881\n",
            "Epoch 16/50\n",
            "3125/3125 [==============================] - 207s 66ms/step - loss: 0.7351 - accuracy: 0.8312 - val_loss: 1.3912 - val_accuracy: 0.6650\n",
            "Epoch 17/50\n",
            "3125/3125 [==============================] - 207s 66ms/step - loss: 0.7244 - accuracy: 0.8356 - val_loss: 0.9561 - val_accuracy: 0.7707\n",
            "Epoch 18/50\n",
            "3125/3125 [==============================] - 207s 66ms/step - loss: 0.7209 - accuracy: 0.8375 - val_loss: 0.8284 - val_accuracy: 0.7960\n",
            "Epoch 19/50\n",
            "3125/3125 [==============================] - 207s 66ms/step - loss: 0.7159 - accuracy: 0.8396 - val_loss: 1.0677 - val_accuracy: 0.7541\n",
            "Epoch 20/50\n",
            "3125/3125 [==============================] - 206s 66ms/step - loss: 0.7089 - accuracy: 0.8429 - val_loss: 0.9025 - val_accuracy: 0.7904\n",
            "Epoch 21/50\n",
            "3125/3125 [==============================] - 206s 66ms/step - loss: 0.7024 - accuracy: 0.8441 - val_loss: 1.0092 - val_accuracy: 0.7521\n",
            "Epoch 22/50\n",
            "3125/3125 [==============================] - 206s 66ms/step - loss: 0.6925 - accuracy: 0.8482 - val_loss: 1.5032 - val_accuracy: 0.6269\n",
            "Epoch 23/50\n",
            "3125/3125 [==============================] - 207s 66ms/step - loss: 0.6924 - accuracy: 0.8481 - val_loss: 1.0286 - val_accuracy: 0.7483\n",
            "Epoch 24/50\n",
            "3125/3125 [==============================] - 207s 66ms/step - loss: 0.6870 - accuracy: 0.8511 - val_loss: 0.9618 - val_accuracy: 0.7797\n",
            "Epoch 25/50\n",
            "3125/3125 [==============================] - 206s 66ms/step - loss: 0.6827 - accuracy: 0.8545 - val_loss: 0.9268 - val_accuracy: 0.7789\n",
            "Epoch 26/50\n",
            "3125/3125 [==============================] - 207s 66ms/step - loss: 0.6798 - accuracy: 0.8540 - val_loss: 0.8837 - val_accuracy: 0.7988\n",
            "Epoch 27/50\n",
            "3125/3125 [==============================] - 207s 66ms/step - loss: 0.6737 - accuracy: 0.8570 - val_loss: 0.9809 - val_accuracy: 0.7758\n",
            "Epoch 28/50\n",
            "3125/3125 [==============================] - 208s 67ms/step - loss: 0.6745 - accuracy: 0.8575 - val_loss: 3.5062 - val_accuracy: 0.3796\n",
            "Epoch 29/50\n",
            "3125/3125 [==============================] - 207s 66ms/step - loss: 0.6709 - accuracy: 0.8584 - val_loss: 0.9313 - val_accuracy: 0.7824\n",
            "Epoch 30/50\n",
            "3125/3125 [==============================] - 207s 66ms/step - loss: 0.6698 - accuracy: 0.8597 - val_loss: 0.8325 - val_accuracy: 0.8087\n",
            "Epoch 31/50\n",
            "3125/3125 [==============================] - 207s 66ms/step - loss: 0.6667 - accuracy: 0.8606 - val_loss: 0.8658 - val_accuracy: 0.7979\n",
            "Epoch 32/50\n",
            "3125/3125 [==============================] - 208s 66ms/step - loss: 0.6673 - accuracy: 0.8609 - val_loss: 0.8740 - val_accuracy: 0.8057\n",
            "Epoch 33/50\n",
            "3125/3125 [==============================] - 207s 66ms/step - loss: 0.6592 - accuracy: 0.8633 - val_loss: 1.6633 - val_accuracy: 0.6196\n",
            "Epoch 34/50\n",
            "3125/3125 [==============================] - 212s 68ms/step - loss: 0.6553 - accuracy: 0.8642 - val_loss: 0.8333 - val_accuracy: 0.8116\n",
            "Epoch 35/50\n",
            "3125/3125 [==============================] - 207s 66ms/step - loss: 0.6538 - accuracy: 0.8646 - val_loss: 0.9443 - val_accuracy: 0.7923\n",
            "Epoch 36/50\n",
            "3125/3125 [==============================] - 206s 66ms/step - loss: 0.6522 - accuracy: 0.8660 - val_loss: 0.8658 - val_accuracy: 0.7992\n",
            "Epoch 37/50\n",
            "3125/3125 [==============================] - 206s 66ms/step - loss: 0.6497 - accuracy: 0.8667 - val_loss: 0.9750 - val_accuracy: 0.7949\n",
            "Epoch 38/50\n",
            "3125/3125 [==============================] - 207s 66ms/step - loss: 0.6461 - accuracy: 0.8684 - val_loss: 1.2927 - val_accuracy: 0.7306\n",
            "Epoch 39/50\n",
            "3125/3125 [==============================] - 207s 66ms/step - loss: 0.6500 - accuracy: 0.8679 - val_loss: 1.0754 - val_accuracy: 0.7695\n",
            "Epoch 40/50\n",
            "3125/3125 [==============================] - 207s 66ms/step - loss: 0.6425 - accuracy: 0.8692 - val_loss: 1.0203 - val_accuracy: 0.7654\n",
            "Epoch 41/50\n",
            "3125/3125 [==============================] - 207s 66ms/step - loss: 0.6447 - accuracy: 0.8698 - val_loss: 0.9086 - val_accuracy: 0.7973\n",
            "Epoch 42/50\n",
            "3125/3125 [==============================] - 207s 66ms/step - loss: 0.6436 - accuracy: 0.8713 - val_loss: 0.8876 - val_accuracy: 0.8048\n",
            "Epoch 43/50\n",
            "3125/3125 [==============================] - 207s 66ms/step - loss: 0.6341 - accuracy: 0.8722 - val_loss: 0.9902 - val_accuracy: 0.7862\n",
            "Epoch 44/50\n",
            "3125/3125 [==============================] - 207s 66ms/step - loss: 0.6353 - accuracy: 0.8722 - val_loss: 0.8679 - val_accuracy: 0.7977\n",
            "Epoch 45/50\n",
            "3125/3125 [==============================] - 206s 66ms/step - loss: 0.6312 - accuracy: 0.8740 - val_loss: 0.8132 - val_accuracy: 0.8210\n",
            "Epoch 46/50\n",
            "3125/3125 [==============================] - 206s 66ms/step - loss: 0.6311 - accuracy: 0.8739 - val_loss: 0.9402 - val_accuracy: 0.7995\n",
            "Epoch 47/50\n",
            "3125/3125 [==============================] - 207s 66ms/step - loss: 0.6296 - accuracy: 0.8745 - val_loss: 0.8136 - val_accuracy: 0.8160\n",
            "Epoch 48/50\n",
            "3125/3125 [==============================] - 207s 66ms/step - loss: 0.6231 - accuracy: 0.8773 - val_loss: 1.9771 - val_accuracy: 0.5323\n",
            "Epoch 49/50\n",
            "3125/3125 [==============================] - 206s 66ms/step - loss: 0.6183 - accuracy: 0.8776 - val_loss: 1.5197 - val_accuracy: 0.6025\n",
            "Epoch 50/50\n",
            "3125/3125 [==============================] - 207s 66ms/step - loss: 0.6174 - accuracy: 0.8779 - val_loss: 0.8128 - val_accuracy: 0.8272\n",
            "313/313 [==============================] - 6s 18ms/step - loss: 0.8128 - accuracy: 0.8272\n"
          ],
          "name": "stdout"
        }
      ]
    },
    {
      "cell_type": "code",
      "metadata": {
        "id": "JNllcORhBD5S",
        "colab_type": "code",
        "outputId": "73bc0ce5-7798-49c5-d426-91d4660eba79",
        "colab": {
          "base_uri": "https://localhost:8080/",
          "height": 52
        }
      },
      "source": [
        "test_loss, test_acc = model.evaluate(x_test, y_test)\n",
        "\n",
        "print('Test accuracy:', test_acc)"
      ],
      "execution_count": 0,
      "outputs": [
        {
          "output_type": "stream",
          "text": [
            "313/313 [==============================] - 6s 18ms/step - loss: 0.8128 - accuracy: 0.8272\n",
            "Test accuracy: 0.8271999955177307\n"
          ],
          "name": "stdout"
        }
      ]
    },
    {
      "cell_type": "code",
      "metadata": {
        "id": "WgS9ae-ilwWy",
        "colab_type": "code",
        "outputId": "ca5fff59-ef5a-4fa3-89e4-bea565f19a2c",
        "colab": {
          "base_uri": "https://localhost:8080/",
          "height": 1000
        }
      },
      "source": [
        "model.summary()"
      ],
      "execution_count": 0,
      "outputs": [
        {
          "output_type": "stream",
          "text": [
            "Model: \"sequential\"\n",
            "_________________________________________________________________\n",
            "Layer (type)                 Output Shape              Param #   \n",
            "=================================================================\n",
            "conv2d (Conv2D)              (None, 32, 32, 64)        1792      \n",
            "_________________________________________________________________\n",
            "conv2d_1 (Conv2D)            (None, 32, 32, 64)        36928     \n",
            "_________________________________________________________________\n",
            "max_pooling2d (MaxPooling2D) (None, 16, 16, 64)        0         \n",
            "_________________________________________________________________\n",
            "batch_normalization (BatchNo (None, 16, 16, 64)        256       \n",
            "_________________________________________________________________\n",
            "conv2d_2 (Conv2D)            (None, 16, 16, 128)       73856     \n",
            "_________________________________________________________________\n",
            "conv2d_3 (Conv2D)            (None, 16, 16, 128)       147584    \n",
            "_________________________________________________________________\n",
            "max_pooling2d_1 (MaxPooling2 (None, 8, 8, 128)         0         \n",
            "_________________________________________________________________\n",
            "conv2d_4 (Conv2D)            (None, 8, 8, 256)         295168    \n",
            "_________________________________________________________________\n",
            "conv2d_5 (Conv2D)            (None, 8, 8, 256)         590080    \n",
            "_________________________________________________________________\n",
            "conv2d_6 (Conv2D)            (None, 8, 8, 256)         590080    \n",
            "_________________________________________________________________\n",
            "max_pooling2d_2 (MaxPooling2 (None, 4, 4, 256)         0         \n",
            "_________________________________________________________________\n",
            "batch_normalization_1 (Batch (None, 4, 4, 256)         1024      \n",
            "_________________________________________________________________\n",
            "conv2d_7 (Conv2D)            (None, 4, 4, 512)         1180160   \n",
            "_________________________________________________________________\n",
            "conv2d_8 (Conv2D)            (None, 4, 4, 512)         2359808   \n",
            "_________________________________________________________________\n",
            "conv2d_9 (Conv2D)            (None, 4, 4, 512)         2359808   \n",
            "_________________________________________________________________\n",
            "max_pooling2d_3 (MaxPooling2 (None, 2, 2, 512)         0         \n",
            "_________________________________________________________________\n",
            "batch_normalization_2 (Batch (None, 2, 2, 512)         2048      \n",
            "_________________________________________________________________\n",
            "conv2d_10 (Conv2D)           (None, 2, 2, 512)         2359808   \n",
            "_________________________________________________________________\n",
            "conv2d_11 (Conv2D)           (None, 2, 2, 512)         2359808   \n",
            "_________________________________________________________________\n",
            "conv2d_12 (Conv2D)           (None, 2, 2, 512)         2359808   \n",
            "_________________________________________________________________\n",
            "max_pooling2d_4 (MaxPooling2 (None, 1, 1, 512)         0         \n",
            "_________________________________________________________________\n",
            "batch_normalization_3 (Batch (None, 1, 1, 512)         2048      \n",
            "_________________________________________________________________\n",
            "flatten (Flatten)            (None, 512)               0         \n",
            "_________________________________________________________________\n",
            "dense (Dense)                (None, 512)               262656    \n",
            "_________________________________________________________________\n",
            "dropout (Dropout)            (None, 512)               0         \n",
            "_________________________________________________________________\n",
            "dense_1 (Dense)              (None, 10)                5130      \n",
            "=================================================================\n",
            "Total params: 14,987,850\n",
            "Trainable params: 14,985,162\n",
            "Non-trainable params: 2,688\n",
            "_________________________________________________________________\n"
          ],
          "name": "stdout"
        }
      ]
    },
    {
      "cell_type": "code",
      "metadata": {
        "id": "7If2LA28w5ou",
        "colab_type": "code",
        "outputId": "6a0a2faa-76b3-4cb1-bd70-d08a6fad5b23",
        "colab": {
          "base_uri": "https://localhost:8080/",
          "height": 319
        }
      },
      "source": [
        "# check GPU model and memory\n",
        "!nvidia-smi"
      ],
      "execution_count": 0,
      "outputs": [
        {
          "output_type": "stream",
          "text": [
            "Fri May  8 14:50:01 2020       \n",
            "+-----------------------------------------------------------------------------+\n",
            "| NVIDIA-SMI 440.82       Driver Version: 418.67       CUDA Version: 10.1     |\n",
            "|-------------------------------+----------------------+----------------------+\n",
            "| GPU  Name        Persistence-M| Bus-Id        Disp.A | Volatile Uncorr. ECC |\n",
            "| Fan  Temp  Perf  Pwr:Usage/Cap|         Memory-Usage | GPU-Util  Compute M. |\n",
            "|===============================+======================+======================|\n",
            "|   0  Tesla P100-PCIE...  Off  | 00000000:00:04.0 Off |                    0 |\n",
            "| N/A   38C    P0    27W / 250W |      0MiB / 16280MiB |      0%      Default |\n",
            "+-------------------------------+----------------------+----------------------+\n",
            "                                                                               \n",
            "+-----------------------------------------------------------------------------+\n",
            "| Processes:                                                       GPU Memory |\n",
            "|  GPU       PID   Type   Process name                             Usage      |\n",
            "|=============================================================================|\n",
            "|  No running processes found                                                 |\n",
            "+-----------------------------------------------------------------------------+\n"
          ],
          "name": "stdout"
        }
      ]
    },
    {
      "cell_type": "code",
      "metadata": {
        "id": "wl8pBLrFfcOn",
        "colab_type": "code",
        "outputId": "7325e467-8412-40c5-bd9f-6fd7d12a6739",
        "colab": {
          "base_uri": "https://localhost:8080/",
          "height": 313
        }
      },
      "source": [
        "# plot accuracy of model in a graph\n",
        "history = trainmodel.history\n",
        "history.keys()\n",
        "\n",
        "acc = history['accuracy']\n",
        "val_acc = history['val_accuracy']\n",
        "loss = history['loss']\n",
        "val_loss = history['val_loss']\n",
        "\n",
        "epochs = range(1, len(acc) + 1)\n",
        "\n",
        "# \"bo\" is for \"blue dot\"\n",
        "plt.plot(epochs, loss, 'bo', label='Training loss')\n",
        "# b is for \"solid blue line\"\n",
        "plt.plot(epochs, val_loss, 'b', label='Testing loss')\n",
        "# \"bo\" is for \"blue dot\"\n",
        "plt.plot(epochs, acc, 'go', label='Training accuracy')\n",
        "# b is for \"solid blue line\"\n",
        "plt.plot(epochs, val_acc, 'g', label='Testing accuracy')\n",
        "plt.title('Graph of training and testing loss/accuracy vs number of epochs')\n",
        "plt.xlabel('Epochs')\n",
        "plt.ylabel('Loss/Accuracy')\n",
        "plt.legend()\n",
        "\n",
        "plt.show()\n",
        "plt.savefig('evaluation.png')"
      ],
      "execution_count": 0,
      "outputs": [
        {
          "output_type": "display_data",
          "data": {
            "image/png": "[encoded data removed]",
            "text/plain": [
              "<Figure size 432x288 with 1 Axes>"
            ]
          },
          "metadata": {
            "tags": [],
            "needs_background": "light"
          }
        },
        {
          "output_type": "display_data",
          "data": {
            "text/plain": [
              "<Figure size 432x288 with 0 Axes>"
            ]
          },
          "metadata": {
            "tags": []
          }
        }
      ]
    },
    {
      "cell_type": "code",
      "metadata": {
        "id": "-TpL2I0zezTa",
        "colab_type": "code",
        "colab": {}
      },
      "source": [
        "# Save entire model to a HDF5 file\n",
        "model.save('cifar.h5')"
      ],
      "execution_count": 0,
      "outputs": []
    }
  ]
}