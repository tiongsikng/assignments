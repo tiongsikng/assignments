{
  "nbformat": 4,
  "nbformat_minor": 0,
  "metadata": {
    "colab": {
      "name": "STDL_Assignment2 - 1",
      "provenance": [],
      "collapsed_sections": []
    },
    "kernelspec": {
      "name": "python3",
      "display_name": "Python 3"
    },
    "accelerator": "GPU"
  },
  "cells": [
    {
      "cell_type": "code",
      "metadata": {
        "id": "mQ7LmJbWgmp0"
      },
      "source": [
        "import tensorflow as tf\n",
        "import numpy as np\n",
        "import matplotlib.pyplot as plt\n",
        "import seaborn as sns\n",
        "import time\n",
        "import math\n",
        "from imgaug import augmenters as iaa\n",
        "sns.set(style=\"darkgrid\", font_scale=1.0)\n",
        "from pandas.plotting import register_matplotlib_converters\n",
        "register_matplotlib_converters()\n",
        "import io \n",
        "import pandas as pd\n",
        "\n",
        "from tensorflow import keras\n",
        "from keras.models import load_model\n",
        "from keras.utils import plot_model\n",
        "from keras import regularizers\n",
        "from keras.callbacks import LearningRateScheduler\n",
        "from keras import models\n",
        "\n",
        "from keras import backend as K"
      ],
      "execution_count": null,
      "outputs": []
    },
    {
      "cell_type": "code",
      "metadata": {
        "id": "9Y6bz6jzvjZi"
      },
      "source": [
        "# logging and history\n",
        "\n",
        "# get model summary string to be saved as text file\n",
        "def get_model_summary(model):\n",
        "  stream = io.StringIO()\n",
        "  model.summary(print_fn=lambda x: stream.write(x + '\\n'))\n",
        "  summary_string = stream.getvalue()\n",
        "  stream.close()\n",
        "  return summary_string\n",
        "\n",
        "def logs(party, model, model_history, time_taken, test_acc):\n",
        "  model_summary_string = get_model_summary(model)\n",
        "  hist_df = pd.DataFrame(model_history.history)\n",
        "\n",
        "  # write history to log text file\n",
        "  title = r'drive/My Drive/' + str(party) + str('_log.txt')\n",
        "  file = open(title, 'w')\n",
        "  file.write(\"Model summary: \\n\" + str(model_summary_string))\n",
        "  file.write(\"Number of Epochs: %d, Batch Size: %d\" %(epochs, batch_size))\n",
        "  file.write(\"\\n History: \\n\" + str(hist_df))\n",
        "  file.write(str(\"\\nTime taken: %.4f,\" %((time_taken)) + ' Test accuracy: {:5.2f}%'.format(100 * test_acc)))\n",
        "  file.close()\n",
        "  print('logged for', party)"
      ],
      "execution_count": null,
      "outputs": []
    },
    {
      "cell_type": "code",
      "metadata": {
        "id": "SpTWtqT6vqhz"
      },
      "source": [
        "# plot accuracy and loss graphs\n",
        "def plot_graph(epochs_no, mode, party, train_model):\n",
        "  if party is 'teacher':\n",
        "    history = train_model.history\n",
        "    history.keys()\n",
        "    acc = history['accuracy']\n",
        "    val_acc = history['val_accuracy']\n",
        "    loss = history['loss']\n",
        "    val_loss = history['val_loss']   \n",
        "     \n",
        "    if mode is 'train':\n",
        "      graph_ = 'Graph of train loss/accuracy vs number of epochs'\n",
        "      y_axis = 'Loss/Accuracy'\n",
        "      plt.plot(epochs_no, loss, 'ro', label='Training loss')\n",
        "      plt.plot(epochs_no, acc, 'bo', label='Training accuracy')\n",
        "      title = 'drive/My Drive/' + str(party) + 'model_train.png'\n",
        "    elif mode is 'test':\n",
        "      graph_ = 'Graph of test loss/accuracy vs number of epochs'\n",
        "      y_axis = 'Loss/Accuracy'\n",
        "      plt.plot(epochs_no, val_loss, 'r', label='Testing loss')\n",
        "      plt.plot(epochs_no, val_acc, 'b', label='Testing accuracy')   \n",
        "      title = 'drive/My Drive/' + str(party) + 'model_test.png' \n",
        "\n",
        "  elif party is 'student':\n",
        "    history = train_model.history\n",
        "    history.keys()\n",
        "    test_acc = history['sparse_categorical_accuracy']\n",
        "    train_loss = history['loss']\n",
        "    test_loss = history['student_loss']\n",
        "\n",
        "    plt.title('Graph of training/testing loss vs number of epochs')\n",
        "    plt.xlabel('Epochs')\n",
        "    plt.ylabel('Loss/Accuracy')  \n",
        "    if mode is 'loss':\n",
        "      graph_ = 'Graph of train/test loss vs number of epochs'\n",
        "      y_axis = 'Loss'\n",
        "      plt.plot(epochs_no, train_loss, 'r', label='Training loss')\n",
        "      plt.plot(epochs_no, test_loss, 'b', label='Testing loss')\n",
        "      title = 'drive/My Drive/' + str(party) + 'test_loss.png'\n",
        "    elif mode is 'accuracy':\n",
        "      graph_ = 'Graph of test accuracy vs number of epochs'\n",
        "      y_axis = 'Accuracy'\n",
        "      plt.plot(epochs_no, test_acc, 'g', label='Testing accuracy')\n",
        "      title = 'drive/My Drive/' + str(party) + 'test_acc.png' \n",
        "  plt.title(graph_)\n",
        "  plt.xlabel('Epochs')\n",
        "  plt.ylabel(y_axis) \n",
        "  plt.legend()\n",
        "  plt.savefig(title)\n",
        "  plt.show()"
      ],
      "execution_count": null,
      "outputs": []
    },
    {
      "cell_type": "code",
      "metadata": {
        "colab": {
          "base_uri": "https://localhost:8080/"
        },
        "id": "-aeyWAsqhqwW",
        "outputId": "db2a44cf-dadc-4764-9273-8ff18a7def1b"
      },
      "source": [
        "img_width, img_height = 32, 32\n",
        "\n",
        "# handle image format\n",
        "if K.image_data_format() == 'channels_first':\n",
        "  input_shape = (3, img_width, img_height)\n",
        "else:\n",
        "  input_shape = (img_width, img_height, 3)\n",
        "\n",
        "# download cifar data and split into train and test sets\n",
        "(x_train, y_train), (x_test, y_test) = keras.datasets.cifar10.load_data()\n",
        "\n",
        "# normalize data to range of [0,1]\n",
        "x_train = x_train / 255.0\n",
        "x_test = x_test / 255.0\n",
        "\n",
        "# to categorical for CategoricalCrossEntropy loss, else use SparseCategoricalCrossEntropy\n",
        "# y_train = keras.utils.to_categorical(y_train)\n",
        "# y_test = keras.utils.to_categorical(y_test)\n",
        "\n",
        "# image augmentation\n",
        "seq = iaa.Sequential([\n",
        "  iaa.Fliplr(0.5),\n",
        "  iaa.Sometimes(\n",
        "      0.5,\n",
        "      iaa.GaussianBlur(sigma=(0, 0.5))\n",
        "  )\n",
        "], random_order=True)\n",
        "\n",
        "# append augmented images to dataset to increase dataset size\n",
        "aug_img = seq.augment_images(x_train)\n",
        "x_train = np.append(x_train, aug_img, axis=0)\n",
        "y_train = np.append(y_train, y_train, axis=0)\n",
        "\n",
        "print(\"Dataset size:\", x_train.shape, \"Label size:\", y_train.shape)"
      ],
      "execution_count": null,
      "outputs": [
        {
          "output_type": "stream",
          "text": [
            "Downloading data from https://www.cs.toronto.edu/~kriz/cifar-10-python.tar.gz\n",
            "170500096/170498071 [==============================] - 6s 0us/step\n",
            "Dataset size: (100000, 32, 32, 3) Label size: (100000, 1)\n"
          ],
          "name": "stdout"
        }
      ]
    },
    {
      "cell_type": "code",
      "metadata": {
        "id": "YI5yae3ongAi",
        "colab": {
          "base_uri": "https://localhost:8080/"
        },
        "outputId": "9cbfc59a-0e9e-4c90-c369-9d39a6211464"
      },
      "source": [
        "# Setup Teacher Model\n",
        "\n",
        "# get VGG16 model\n",
        "cifar_input = keras.layers.Input(shape=input_shape)\n",
        "vgg_model = keras.applications.VGG16(weights='imagenet', include_top=False, input_shape=input_shape, classes=10)\n",
        "vgg_model.trainable = True\n",
        "# vgg_model.summary()\n",
        "\n",
        "def teacher_model():\n",
        "  # add BN to VGG model after pooling layers\n",
        "  bn_vgg = keras.Sequential()\n",
        "  bn_vgg.add(keras.layers.Input(shape=(32, 32, 3), name='main_inputs'))    \n",
        "  for layer in vgg_model.layers:\n",
        "    bn_vgg.add(layer)\n",
        "    if layer.name in ['block1_pool', 'block2_pool', 'block3_pool', 'block4_pool']:\n",
        "      bn_vgg.add(keras.layers.BatchNormalization())\n",
        "\n",
        "  # add classifier layers\n",
        "  teacher_model = keras.Sequential(name='teacher')\n",
        "  teacher_model.add(bn_vgg)\n",
        "  teacher_model.add(keras.layers.Flatten())\n",
        "  teacher_model.add(keras.layers.Dense(4096, input_dim = 512, activation=tf.nn.relu))\n",
        "  teacher_model.add(keras.layers.Dense(4096, activation=tf.nn.relu))\n",
        "  teacher_model.add(keras.layers.Dense(10, name='logits'))\n",
        "  teacher_model.add(keras.layers.Activation('softmax'))\n",
        "\n",
        "  return teacher_model\n",
        "\n",
        "teacher = teacher_model()\n",
        "teacher.summary()"
      ],
      "execution_count": null,
      "outputs": [
        {
          "output_type": "stream",
          "text": [
            "Downloading data from https://storage.googleapis.com/tensorflow/keras-applications/vgg16/vgg16_weights_tf_dim_ordering_tf_kernels_notop.h5\n",
            "58892288/58889256 [==============================] - 1s 0us/step\n",
            "Model: \"teacher\"\n",
            "_________________________________________________________________\n",
            "Layer (type)                 Output Shape              Param #   \n",
            "=================================================================\n",
            "sequential (Sequential)      (None, 1, 1, 512)         14718528  \n",
            "_________________________________________________________________\n",
            "flatten (Flatten)            (None, 512)               0         \n",
            "_________________________________________________________________\n",
            "dense (Dense)                (None, 4096)              2101248   \n",
            "_________________________________________________________________\n",
            "dense_1 (Dense)              (None, 4096)              16781312  \n",
            "_________________________________________________________________\n",
            "logits (Dense)               (None, 10)                40970     \n",
            "_________________________________________________________________\n",
            "activation (Activation)      (None, 10)                0         \n",
            "=================================================================\n",
            "Total params: 33,642,058\n",
            "Trainable params: 33,640,138\n",
            "Non-trainable params: 1,920\n",
            "_________________________________________________________________\n"
          ],
          "name": "stdout"
        }
      ]
    },
    {
      "cell_type": "code",
      "metadata": {
        "id": "NP8QU-hU6cnp"
      },
      "source": [
        "# set hyperparameters\n",
        "epochs = 50\n",
        "batch_size = 64\n",
        "lrate = 0.001\n",
        "decay = lrate/epochs\n",
        "\n",
        "lrr= tf.keras.callbacks.ReduceLROnPlateau(\n",
        "                       monitor='val_accuracy', #Metric to be measured\n",
        "                       factor=.01, #Factor by which learning rate will be reduced\n",
        "                       patience=3,  #No. of epochs after which if there is no improvement in the val_acc, the learning rate is reduced\n",
        "                       min_lr=1e-5)\n",
        "\n",
        "loss_func = tf.keras.losses.SparseCategoricalCrossentropy(from_logits=True)\n",
        "adam1 = tf.keras.optimizers.Adam(lr=lrate, beta_1=0.9, beta_2=0.999, epsilon=None, decay=0.0, amsgrad=False)\n",
        "adam = tf.keras.optimizers.Adam(lr=1e-5, beta_1=0.9, beta_2=0.999, epsilon=None, decay=0.0, amsgrad=False)\n",
        "sgd = tf.keras.optimizers.SGD(lr=lrate, momentum=0.9, nesterov=False) \n",
        "sgd1 = tf.keras.optimizers.SGD(lr=lrate, momentum=0.9, decay=decay, nesterov=False) "
      ],
      "execution_count": null,
      "outputs": []
    },
    {
      "cell_type": "code",
      "metadata": {
        "colab": {
          "base_uri": "https://localhost:8080/"
        },
        "id": "90MaWzyppTkx",
        "outputId": "7a187ecb-72ab-4b10-f4b5-c05bad3d3192"
      },
      "source": [
        "# compile teacher model and start training\n",
        "teacher.compile(optimizer=adam, loss=loss_func, metrics=['accuracy'])\n",
        "\n",
        "start_time = time.time()\n",
        "teacher_train = teacher.fit(x_train, y_train, epochs=epochs, validation_data=(x_test, y_test), steps_per_epoch=x_train.shape[0]//batch_size, batch_size=batch_size, callbacks=[lrr], shuffle=True)\n",
        "time_taken = time.time() - start_time\n",
        "print('Time taken for %d epochs: %.4f' % (epochs, time_taken))\n",
        "\n",
        "# evaluate teacher model\n",
        "test_loss, test_acc = teacher.evaluate(x_test, y_test)\n",
        "print('Test accuracy: {:5.2f}%'.format(100 * test_acc))"
      ],
      "execution_count": null,
      "outputs": [
        {
          "output_type": "stream",
          "text": [
            "   2/1562 [..............................] - ETA: 44s - loss: 2.2957 - accuracy: 0.1562WARNING:tensorflow:Callbacks method `on_train_batch_end` is slow compared to the batch time (batch time: 0.0188s vs `on_train_batch_end` time: 0.0391s). Check your callbacks.\n",
            "1562/1562 [==============================] - 63s 40ms/step - loss: 1.7950 - accuracy: 0.6695 - val_loss: 1.6868 - val_accuracy: 0.7742\n",
            "Time taken for 1 epochs: 64.1178\n",
            "313/313 [==============================] - 3s 8ms/step - loss: 1.6868 - accuracy: 0.7742\n",
            "Test accuracy: 77.42%\n"
          ],
          "name": "stdout"
        }
      ]
    },
    {
      "cell_type": "code",
      "metadata": {
        "colab": {
          "base_uri": "https://localhost:8080/",
          "height": 255
        },
        "id": "YfwTqLWx8d68",
        "outputId": "d744c8b5-a5cd-4885-e040-5f0f15202901"
      },
      "source": [
        "# Save entire model to a HDF5 file\n",
        "teacher.save('drive/My Drive/teacher_model.h5')\n",
        "print('Model saved.')\n",
        "\n",
        "# save model, logs and print graph\n",
        "epochs_no = range(1, epochs + 1)\n",
        "\n",
        "logs('teacher', teacher, teacher_train, time_taken, test_acc)\n",
        "plot_graph(epochs_no, 'train', 'teacher', teacher_train)\n",
        "plot_graph(epochs_no, 'test', 'teacher', teacher_train)"
      ],
      "execution_count": null,
      "outputs": [
        {
          "output_type": "stream",
          "text": [
            "Model saved.\n"
          ],
          "name": "stdout"
        },
        {
          "output_type": "error",
          "ename": "NameError",
          "evalue": "ignored",
          "traceback": [
            "\u001b[0;31m---------------------------------------------------------------------------\u001b[0m",
            "\u001b[0;31mNameError\u001b[0m                                 Traceback (most recent call last)",
            "\u001b[0;32m<ipython-input-7-41a71a038579>\u001b[0m in \u001b[0;36m<module>\u001b[0;34m()\u001b[0m\n\u001b[1;32m      6\u001b[0m \u001b[0mepochs_no\u001b[0m \u001b[0;34m=\u001b[0m \u001b[0mrange\u001b[0m\u001b[0;34m(\u001b[0m\u001b[0;36m1\u001b[0m\u001b[0;34m,\u001b[0m \u001b[0mepochs\u001b[0m \u001b[0;34m+\u001b[0m \u001b[0;36m1\u001b[0m\u001b[0;34m)\u001b[0m\u001b[0;34m\u001b[0m\u001b[0;34m\u001b[0m\u001b[0m\n\u001b[1;32m      7\u001b[0m \u001b[0;34m\u001b[0m\u001b[0m\n\u001b[0;32m----> 8\u001b[0;31m \u001b[0mlogs\u001b[0m\u001b[0;34m(\u001b[0m\u001b[0;34m'teacher'\u001b[0m\u001b[0;34m,\u001b[0m \u001b[0mteacher\u001b[0m\u001b[0;34m,\u001b[0m \u001b[0mteacher_train\u001b[0m\u001b[0;34m,\u001b[0m \u001b[0mtime_taken\u001b[0m\u001b[0;34m,\u001b[0m \u001b[0mtest_acc\u001b[0m\u001b[0;34m)\u001b[0m\u001b[0;34m\u001b[0m\u001b[0;34m\u001b[0m\u001b[0m\n\u001b[0m\u001b[1;32m      9\u001b[0m \u001b[0mplot_graph\u001b[0m\u001b[0;34m(\u001b[0m\u001b[0mepochs_no\u001b[0m\u001b[0;34m,\u001b[0m \u001b[0;34m'train'\u001b[0m\u001b[0;34m,\u001b[0m \u001b[0;34m'teacher'\u001b[0m\u001b[0;34m,\u001b[0m \u001b[0mteacher_train\u001b[0m\u001b[0;34m)\u001b[0m\u001b[0;34m\u001b[0m\u001b[0;34m\u001b[0m\u001b[0m\n\u001b[1;32m     10\u001b[0m \u001b[0mplot_graph\u001b[0m\u001b[0;34m(\u001b[0m\u001b[0mepochs_no\u001b[0m\u001b[0;34m,\u001b[0m \u001b[0;34m'test'\u001b[0m\u001b[0;34m,\u001b[0m \u001b[0;34m'teacher'\u001b[0m\u001b[0;34m,\u001b[0m \u001b[0mteacher_train\u001b[0m\u001b[0;34m)\u001b[0m\u001b[0;34m\u001b[0m\u001b[0;34m\u001b[0m\u001b[0m\n",
            "\u001b[0;31mNameError\u001b[0m: name 'teacher_train' is not defined"
          ]
        }
      ]
    },
    {
      "cell_type": "code",
      "metadata": {
        "id": "q1nq47jgJWHM",
        "colab": {
          "base_uri": "https://localhost:8080/"
        },
        "outputId": "e9790646-0f41-4f06-bc71-4c335deb2157"
      },
      "source": [
        "# Setup Student Model\n",
        "def student_model():\n",
        "  student_model = keras.Sequential(name='student')\n",
        "  student_model.add(keras.layers.Input(shape=(32, 32, 3), name='main_inputs')),\n",
        "  student_model.add(keras.layers.ZeroPadding2D(padding=(1, 1))),\n",
        "  student_model.add(keras.layers.Conv2D(filters=32, kernel_size=5, padding='same', activation='relu')),\n",
        "  student_model.add(keras.layers.MaxPooling2D(pool_size=(2,2), padding='same', strides=1)),\n",
        "  student_model.add(keras.layers.BatchNormalization()),\n",
        "  student_model.add(keras.layers.ZeroPadding2D(padding=(1, 1))),\n",
        "  student_model.add(keras.layers.Conv2D(filters=64, kernel_size=3, padding='same', activation='relu')),\n",
        "  student_model.add(keras.layers.MaxPooling2D(pool_size=(2,2), padding='same', strides=1)),\n",
        "  student_model.add(keras.layers.BatchNormalization()),\n",
        "  student_model.add(keras.layers.ZeroPadding2D(padding=(1, 1))),\n",
        "  student_model.add(keras.layers.Conv2D(filters=128, kernel_size=3, padding='same', activation='relu')),\n",
        "  student_model.add(keras.layers.MaxPooling2D(pool_size=(2,2), padding='same', strides=1)),\n",
        "  student_model.add(keras.layers.BatchNormalization()),\n",
        "  student_model.add(keras.layers.Flatten()),\n",
        "  student_model.add(keras.layers.Dense(500)),\n",
        "  student_model.add(keras.layers.Dense(10)),\n",
        "  student_model.add(keras.layers.Activation('softmax')),\n",
        "\n",
        "  return student_model\n",
        "\n",
        "student = student_model()\n",
        "student.summary()"
      ],
      "execution_count": null,
      "outputs": [
        {
          "output_type": "stream",
          "text": [
            "Model: \"student\"\n",
            "_________________________________________________________________\n",
            "Layer (type)                 Output Shape              Param #   \n",
            "=================================================================\n",
            "zero_padding2d_9 (ZeroPaddin (None, 34, 34, 3)         0         \n",
            "_________________________________________________________________\n",
            "conv2d_9 (Conv2D)            (None, 34, 34, 32)        2432      \n",
            "_________________________________________________________________\n",
            "max_pooling2d_9 (MaxPooling2 (None, 34, 34, 32)        0         \n",
            "_________________________________________________________________\n",
            "batch_normalization_13 (Batc (None, 34, 34, 32)        128       \n",
            "_________________________________________________________________\n",
            "zero_padding2d_10 (ZeroPaddi (None, 36, 36, 32)        0         \n",
            "_________________________________________________________________\n",
            "conv2d_10 (Conv2D)           (None, 36, 36, 64)        18496     \n",
            "_________________________________________________________________\n",
            "max_pooling2d_10 (MaxPooling (None, 36, 36, 64)        0         \n",
            "_________________________________________________________________\n",
            "batch_normalization_14 (Batc (None, 36, 36, 64)        256       \n",
            "_________________________________________________________________\n",
            "zero_padding2d_11 (ZeroPaddi (None, 38, 38, 64)        0         \n",
            "_________________________________________________________________\n",
            "conv2d_11 (Conv2D)           (None, 38, 38, 128)       73856     \n",
            "_________________________________________________________________\n",
            "max_pooling2d_11 (MaxPooling (None, 38, 38, 128)       0         \n",
            "_________________________________________________________________\n",
            "batch_normalization_15 (Batc (None, 38, 38, 128)       512       \n",
            "_________________________________________________________________\n",
            "flatten_4 (Flatten)          (None, 184832)            0         \n",
            "_________________________________________________________________\n",
            "dense_8 (Dense)              (None, 500)               92416500  \n",
            "_________________________________________________________________\n",
            "dense_9 (Dense)              (None, 10)                5010      \n",
            "_________________________________________________________________\n",
            "activation_4 (Activation)    (None, 10)                0         \n",
            "=================================================================\n",
            "Total params: 92,517,190\n",
            "Trainable params: 92,516,742\n",
            "Non-trainable params: 448\n",
            "_________________________________________________________________\n"
          ],
          "name": "stdout"
        }
      ]
    },
    {
      "cell_type": "code",
      "metadata": {
        "id": "61ze_p1ghQ6p"
      },
      "source": [
        "# distillation class taken from Keras documentation\n",
        "class Distiller(keras.Model):\n",
        "    def __init__(self, student, teacher):\n",
        "        super(Distiller, self).__init__()\n",
        "        self.teacher = teacher\n",
        "        self.student = student\n",
        "\n",
        "    def compile(\n",
        "        self,\n",
        "        optimizer,\n",
        "        metrics,\n",
        "        student_loss_fn,\n",
        "        teacher_loss_fn,\n",
        "        distillation_loss_fn,\n",
        "        alpha=0.1,\n",
        "        temperature=3,\n",
        "    ):\n",
        "        \"\"\" Configure the distiller.\n",
        "        Args:\n",
        "            optimizer: Keras optimizer for the student weights\n",
        "            metrics: Keras metrics for evaluation\n",
        "            student_loss_fn: Loss function of difference between student\n",
        "                predictions and ground-truth\n",
        "            distillation_loss_fn: Loss function of difference between soft\n",
        "                student predictions and soft teacher predictions\n",
        "            alpha: weight to student_loss_fn and 1-alpha to distillation_loss_fn\n",
        "            temperature: Temperature for softening probability distributions.\n",
        "                Larger temperature gives softer distributions.\n",
        "        \"\"\"\n",
        "        super(Distiller, self).compile(optimizer=optimizer, metrics=metrics)\n",
        "        self.student_loss_fn = student_loss_fn\n",
        "        self.teacher_loss_fn = teacher_loss_fn\n",
        "        self.distillation_loss_fn = distillation_loss_fn\n",
        "        self.alpha = alpha\n",
        "        self.temperature = temperature\n",
        "\n",
        "    def train_step(self, data):\n",
        "        # Unpack data\n",
        "        x, y = data\n",
        "\n",
        "        # Forward pass of teacher\n",
        "        teacher_predictions = self.teacher(x, training=False)\n",
        "\n",
        "        with tf.GradientTape() as tape:\n",
        "            # Forward pass of student\n",
        "            student_predictions = self.student(x, training=True)\n",
        "\n",
        "            # Compute losses\n",
        "            student_loss = self.student_loss_fn(y, student_predictions)\n",
        "            teacher_loss = self.teacher_loss_fn(y, tf.nn.softmax(teacher_predictions / self.temperature, axis=1))\n",
        "            distillation_loss = self.distillation_loss_fn(\n",
        "                tf.nn.softmax(teacher_predictions / self.temperature, axis=1),\n",
        "                tf.nn.softmax(student_predictions / self.temperature, axis=1),\n",
        "            )\n",
        "            # loss = self.alpha * student_loss + (1 - self.alpha) * distillation_loss\n",
        "            loss = ((self.temperature^2) * self.alpha * distillation_loss) + ((1 - self.alpha) * student_loss)\n",
        "\n",
        "        # Compute gradients\n",
        "        trainable_vars = self.student.trainable_variables\n",
        "        gradients = tape.gradient(loss, trainable_vars)\n",
        "\n",
        "        # Update weights\n",
        "        self.optimizer.apply_gradients(zip(gradients, trainable_vars))\n",
        "\n",
        "        # Update the metrics configured in `compile()`.\n",
        "        self.compiled_metrics.update_state(y, student_predictions)\n",
        "\n",
        "        # Return a dict of performance\n",
        "        results = {m.name: m.result() for m in self.metrics}\n",
        "        results.update(\n",
        "            {\"student_loss\": student_loss, \"distillation_loss\": distillation_loss, \"loss\": loss}\n",
        "        )\n",
        "        return results\n",
        "\n",
        "    def test_step(self, data):\n",
        "        # Unpack the data\n",
        "        x, y = data\n",
        "\n",
        "        # Compute predictions\n",
        "        y_prediction = self.student(x, training=False)\n",
        "\n",
        "        # Calculate the loss\n",
        "        student_loss = self.student_loss_fn(y, y_prediction)\n",
        "\n",
        "        # Update the metrics.\n",
        "        self.compiled_metrics.update_state(y, y_prediction)\n",
        "\n",
        "        # Return a dict of performance\n",
        "        results = {m.name: m.result() for m in self.metrics}\n",
        "        results.update({\"student_loss\": student_loss})\n",
        "        return results\n"
      ],
      "execution_count": null,
      "outputs": []
    },
    {
      "cell_type": "code",
      "metadata": {
        "colab": {
          "base_uri": "https://localhost:8080/"
        },
        "id": "L8q7wek7ki-s",
        "outputId": "fd230c50-f25e-42fe-e7b9-c8ab6a9d32fb"
      },
      "source": [
        "# # restore teacher session to be distilled to student\n",
        "teacher = keras.models.load_model('drive/My Drive/STDL/teacher_network/model.h5')\n",
        "\n",
        "# compile distiller model and start training\n",
        "distiller = Distiller(student=student, teacher=teacher)\n",
        "distiller.compile(\n",
        "    optimizer=adam,\n",
        "    metrics=[keras.metrics.SparseCategoricalAccuracy()],\n",
        "    student_loss_fn=keras.losses.SparseCategoricalCrossentropy(from_logits=True),\n",
        "    teacher_loss_fn=keras.losses.SparseCategoricalCrossentropy(from_logits=True),\n",
        "    distillation_loss_fn=keras.losses.KLDivergence(),\n",
        "    alpha=0,\n",
        "    temperature=0,\n",
        ")\n",
        "\n",
        "# Distill teacher to student\n",
        "start_time = time.time()\n",
        "student_train = distiller.fit(x_train, y_train, epochs=epochs, batch_size=batch_size)\n",
        "time_taken = time.time() - start_time\n",
        "# Evaluate student on test dataset\n",
        "distiller.evaluate(x_test, y_test)"
      ],
      "execution_count": null,
      "outputs": [
        {
          "output_type": "stream",
          "text": [
            "Epoch 1/50\n",
            "1563/1563 [==============================] - 54s 35ms/step - sparse_categorical_accuracy: 0.1000 - student_loss: nan - distillation_loss: 0.0000e+00 - loss: nan\n",
            "Epoch 2/50\n",
            "1563/1563 [==============================] - 54s 35ms/step - sparse_categorical_accuracy: 0.1000 - student_loss: nan - distillation_loss: 0.0000e+00 - loss: nan\n",
            "Epoch 3/50\n",
            "1563/1563 [==============================] - 54s 35ms/step - sparse_categorical_accuracy: 0.1000 - student_loss: nan - distillation_loss: 0.0000e+00 - loss: nan\n",
            "Epoch 4/50\n",
            "1563/1563 [==============================] - 54s 35ms/step - sparse_categorical_accuracy: 0.1000 - student_loss: nan - distillation_loss: 0.0000e+00 - loss: nan\n",
            "Epoch 5/50\n",
            "1563/1563 [==============================] - 54s 35ms/step - sparse_categorical_accuracy: 0.1000 - student_loss: nan - distillation_loss: 0.0000e+00 - loss: nan\n",
            "Epoch 6/50\n",
            "1563/1563 [==============================] - 54s 35ms/step - sparse_categorical_accuracy: 0.1000 - student_loss: nan - distillation_loss: 0.0000e+00 - loss: nan\n",
            "Epoch 7/50\n",
            "1563/1563 [==============================] - 54s 35ms/step - sparse_categorical_accuracy: 0.1000 - student_loss: nan - distillation_loss: 0.0000e+00 - loss: nan\n",
            "Epoch 8/50\n",
            "1563/1563 [==============================] - 54s 35ms/step - sparse_categorical_accuracy: 0.1000 - student_loss: nan - distillation_loss: 0.0000e+00 - loss: nan\n",
            "Epoch 9/50\n",
            "1563/1563 [==============================] - 54s 35ms/step - sparse_categorical_accuracy: 0.1000 - student_loss: nan - distillation_loss: 0.0000e+00 - loss: nan\n",
            "Epoch 10/50\n",
            "1563/1563 [==============================] - 54s 35ms/step - sparse_categorical_accuracy: 0.1000 - student_loss: nan - distillation_loss: 0.0000e+00 - loss: nan\n",
            "Epoch 11/50\n",
            "1563/1563 [==============================] - 54s 35ms/step - sparse_categorical_accuracy: 0.1000 - student_loss: nan - distillation_loss: 0.0000e+00 - loss: nan\n",
            "Epoch 12/50\n",
            "1563/1563 [==============================] - 54s 35ms/step - sparse_categorical_accuracy: 0.1000 - student_loss: nan - distillation_loss: 0.0000e+00 - loss: nan\n",
            "Epoch 13/50\n",
            "1563/1563 [==============================] - 54s 35ms/step - sparse_categorical_accuracy: 0.1000 - student_loss: nan - distillation_loss: 0.0000e+00 - loss: nan\n",
            "Epoch 14/50\n",
            "1563/1563 [==============================] - 54s 35ms/step - sparse_categorical_accuracy: 0.1000 - student_loss: nan - distillation_loss: 0.0000e+00 - loss: nan\n",
            "Epoch 15/50\n",
            "1563/1563 [==============================] - 54s 35ms/step - sparse_categorical_accuracy: 0.1000 - student_loss: nan - distillation_loss: 0.0000e+00 - loss: nan\n",
            "Epoch 16/50\n",
            "1563/1563 [==============================] - 54s 35ms/step - sparse_categorical_accuracy: 0.1000 - student_loss: nan - distillation_loss: 0.0000e+00 - loss: nan\n",
            "Epoch 17/50\n",
            "1563/1563 [==============================] - 54s 35ms/step - sparse_categorical_accuracy: 0.1000 - student_loss: nan - distillation_loss: 0.0000e+00 - loss: nan\n",
            "Epoch 18/50\n",
            "1563/1563 [==============================] - 54s 35ms/step - sparse_categorical_accuracy: 0.1000 - student_loss: nan - distillation_loss: 0.0000e+00 - loss: nan\n",
            "Epoch 19/50\n",
            "1563/1563 [==============================] - 54s 35ms/step - sparse_categorical_accuracy: 0.1000 - student_loss: nan - distillation_loss: 0.0000e+00 - loss: nan\n",
            "Epoch 20/50\n",
            "1563/1563 [==============================] - 54s 35ms/step - sparse_categorical_accuracy: 0.1000 - student_loss: nan - distillation_loss: 0.0000e+00 - loss: nan\n",
            "Epoch 21/50\n",
            "1563/1563 [==============================] - 54s 35ms/step - sparse_categorical_accuracy: 0.1000 - student_loss: nan - distillation_loss: 0.0000e+00 - loss: nan\n",
            "Epoch 22/50\n",
            "1563/1563 [==============================] - 54s 35ms/step - sparse_categorical_accuracy: 0.1000 - student_loss: nan - distillation_loss: 0.0000e+00 - loss: nan\n",
            "Epoch 23/50\n",
            "1563/1563 [==============================] - 54s 35ms/step - sparse_categorical_accuracy: 0.1000 - student_loss: nan - distillation_loss: 0.0000e+00 - loss: nan\n",
            "Epoch 24/50\n",
            "1563/1563 [==============================] - 54s 35ms/step - sparse_categorical_accuracy: 0.1000 - student_loss: nan - distillation_loss: 0.0000e+00 - loss: nan\n",
            "Epoch 25/50\n",
            "1563/1563 [==============================] - 54s 35ms/step - sparse_categorical_accuracy: 0.1000 - student_loss: nan - distillation_loss: 0.0000e+00 - loss: nan\n",
            "Epoch 26/50\n",
            "1563/1563 [==============================] - 54s 35ms/step - sparse_categorical_accuracy: 0.1000 - student_loss: nan - distillation_loss: 0.0000e+00 - loss: nan\n",
            "Epoch 27/50\n",
            "1563/1563 [==============================] - 54s 35ms/step - sparse_categorical_accuracy: 0.1000 - student_loss: nan - distillation_loss: 0.0000e+00 - loss: nan\n",
            "Epoch 28/50\n",
            "1563/1563 [==============================] - 54s 35ms/step - sparse_categorical_accuracy: 0.1000 - student_loss: nan - distillation_loss: 0.0000e+00 - loss: nan\n",
            "Epoch 29/50\n",
            "1563/1563 [==============================] - 54s 35ms/step - sparse_categorical_accuracy: 0.1000 - student_loss: nan - distillation_loss: 0.0000e+00 - loss: nan\n",
            "Epoch 30/50\n",
            "1563/1563 [==============================] - 54s 35ms/step - sparse_categorical_accuracy: 0.1000 - student_loss: nan - distillation_loss: 0.0000e+00 - loss: nan\n",
            "Epoch 31/50\n",
            "1563/1563 [==============================] - 54s 35ms/step - sparse_categorical_accuracy: 0.1000 - student_loss: nan - distillation_loss: 0.0000e+00 - loss: nan\n",
            "Epoch 32/50\n",
            "1563/1563 [==============================] - 54s 35ms/step - sparse_categorical_accuracy: 0.1000 - student_loss: nan - distillation_loss: 0.0000e+00 - loss: nan\n",
            "Epoch 33/50\n",
            "1563/1563 [==============================] - 54s 35ms/step - sparse_categorical_accuracy: 0.1000 - student_loss: nan - distillation_loss: 0.0000e+00 - loss: nan\n",
            "Epoch 34/50\n",
            "1563/1563 [==============================] - 54s 35ms/step - sparse_categorical_accuracy: 0.1000 - student_loss: nan - distillation_loss: 0.0000e+00 - loss: nan\n",
            "Epoch 35/50\n",
            "1563/1563 [==============================] - 54s 35ms/step - sparse_categorical_accuracy: 0.1000 - student_loss: nan - distillation_loss: 0.0000e+00 - loss: nan\n",
            "Epoch 36/50\n",
            "1563/1563 [==============================] - 54s 35ms/step - sparse_categorical_accuracy: 0.1000 - student_loss: nan - distillation_loss: 0.0000e+00 - loss: nan\n",
            "Epoch 37/50\n",
            "1563/1563 [==============================] - 54s 35ms/step - sparse_categorical_accuracy: 0.1000 - student_loss: nan - distillation_loss: 0.0000e+00 - loss: nan\n",
            "Epoch 38/50\n",
            "1563/1563 [==============================] - 54s 35ms/step - sparse_categorical_accuracy: 0.1000 - student_loss: nan - distillation_loss: 0.0000e+00 - loss: nan\n",
            "Epoch 39/50\n",
            "1563/1563 [==============================] - 54s 35ms/step - sparse_categorical_accuracy: 0.1000 - student_loss: nan - distillation_loss: 0.0000e+00 - loss: nan\n",
            "Epoch 40/50\n",
            "1563/1563 [==============================] - 54s 35ms/step - sparse_categorical_accuracy: 0.1000 - student_loss: nan - distillation_loss: 0.0000e+00 - loss: nan\n",
            "Epoch 41/50\n",
            "1563/1563 [==============================] - 54s 35ms/step - sparse_categorical_accuracy: 0.1000 - student_loss: nan - distillation_loss: 0.0000e+00 - loss: nan\n",
            "Epoch 42/50\n",
            "1563/1563 [==============================] - 54s 35ms/step - sparse_categorical_accuracy: 0.1000 - student_loss: nan - distillation_loss: 0.0000e+00 - loss: nan\n",
            "Epoch 43/50\n",
            "1563/1563 [==============================] - 54s 35ms/step - sparse_categorical_accuracy: 0.1000 - student_loss: nan - distillation_loss: 0.0000e+00 - loss: nan\n",
            "Epoch 44/50\n",
            "1563/1563 [==============================] - 54s 35ms/step - sparse_categorical_accuracy: 0.1000 - student_loss: nan - distillation_loss: 0.0000e+00 - loss: nan\n",
            "Epoch 45/50\n",
            "1563/1563 [==============================] - 54s 35ms/step - sparse_categorical_accuracy: 0.1000 - student_loss: nan - distillation_loss: 0.0000e+00 - loss: nan\n",
            "Epoch 46/50\n",
            "1563/1563 [==============================] - 54s 35ms/step - sparse_categorical_accuracy: 0.1000 - student_loss: nan - distillation_loss: 0.0000e+00 - loss: nan\n",
            "Epoch 47/50\n",
            "1563/1563 [==============================] - 54s 35ms/step - sparse_categorical_accuracy: 0.1000 - student_loss: nan - distillation_loss: 0.0000e+00 - loss: nan\n",
            "Epoch 48/50\n",
            "1563/1563 [==============================] - 54s 35ms/step - sparse_categorical_accuracy: 0.1000 - student_loss: nan - distillation_loss: 0.0000e+00 - loss: nan\n",
            "Epoch 49/50\n",
            "1563/1563 [==============================] - 54s 35ms/step - sparse_categorical_accuracy: 0.1000 - student_loss: nan - distillation_loss: 0.0000e+00 - loss: nan\n",
            "Epoch 50/50\n",
            "1563/1563 [==============================] - 54s 35ms/step - sparse_categorical_accuracy: 0.1000 - student_loss: nan - distillation_loss: 0.0000e+00 - loss: nan\n",
            "313/313 [==============================] - 2s 5ms/step - sparse_categorical_accuracy: 0.1000 - student_loss: nan\n"
          ],
          "name": "stdout"
        },
        {
          "output_type": "execute_result",
          "data": {
            "text/plain": [
              "0.10000000149011612"
            ]
          },
          "metadata": {
            "tags": []
          },
          "execution_count": 24
        }
      ]
    },
    {
      "cell_type": "code",
      "metadata": {
        "colab": {
          "base_uri": "https://localhost:8080/",
          "height": 638
        },
        "id": "UdKvT4wcAzzu",
        "outputId": "cba8483c-2634-48b4-82be-2872b8da408e"
      },
      "source": [
        "# Save entire model to a HDF5 file\n",
        "# distiller.save('drive/My Drive/student_model.h5')\n",
        "print('Model saved.')\n",
        "\n",
        "# save model, logs and print graph\n",
        "epochs_no = range(1, epochs + 1)\n",
        "\n",
        "logs('student', student, student_train, time_taken, distiller.evaluate(x_test, y_test))\n",
        "plot_graph(epochs_no, 'loss', 'student', student_train)\n",
        "plot_graph(epochs_no, 'accuracy', 'student', student_train)"
      ],
      "execution_count": null,
      "outputs": [
        {
          "output_type": "stream",
          "text": [
            "Model saved.\n",
            "313/313 [==============================] - 1s 5ms/step - sparse_categorical_accuracy: 0.1000 - student_loss: nan\n",
            "logged for student\n"
          ],
          "name": "stdout"
        },
        {
          "output_type": "display_data",
          "data": {
            "image/png": "[encoded data removed]",
            "text/plain": [
              "<Figure size 432x288 with 1 Axes>"
            ]
          },
          "metadata": {
            "tags": [],
            "needs_background": "light"
          }
        },
        {
          "output_type": "display_data",
          "data": {
            "image/png": "[encoded data removed]",
            "text/plain": [
              "<Figure size 432x288 with 1 Axes>"
            ]
          },
          "metadata": {
            "tags": [],
            "needs_background": "light"
          }
        }
      ]
    },
    {
      "cell_type": "code",
      "metadata": {
        "id": "JyvnIE4x8Vu7"
      },
      "source": [
        ""
      ],
      "execution_count": null,
      "outputs": []
    }
  ]
}